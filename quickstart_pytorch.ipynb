{
  "cells": [
    {
      "cell_type": "code",
      "execution_count": 1,
      "metadata": {
        "id": "pP8E3Ra4toPT"
      },
      "outputs": [],
      "source": [
        "# For tips on running notebooks in Google Colab, see\n",
        "# https://pytorch.org/tutorials/beginner/colab\n",
        "%matplotlib inline"
      ]
    },
    {
      "cell_type": "markdown",
      "metadata": {
        "id": "zExgR58xtoPU"
      },
      "source": [
        "# Quickstart\n",
        "Questa sezione illustra i fondamenti dell'API di PyTorch.\n",
        "\n",
        "## Lavorare con i dati\n",
        "PyTorch ha due [primitive per lavorare con i dati](https://pytorch.org/docs/stable/data.html):\n",
        "``torch.utils.data.DataLoader`` e ``torch.utils.data.Dataset``.\n",
        "* ``Dataset`` memorizza gli esempi e le relative etichette\n",
        "* ``DataLoader`` fornisce un metodo per iterare sugli elementi del\n",
        "``Dataset``.\n"
      ]
    },
    {
      "cell_type": "code",
      "execution_count": 2,
      "metadata": {
        "id": "EYuvZ3IFtoPU",
        "colab": {
          "base_uri": "https://localhost:8080/"
        },
        "outputId": "583c74ab-d112-4773-b2a1-e792fed52b78"
      },
      "outputs": [
        {
          "output_type": "execute_result",
          "data": {
            "text/plain": [
              "<torch._C.Generator at 0x7c00801a16f0>"
            ]
          },
          "metadata": {},
          "execution_count": 2
        }
      ],
      "source": [
        "import torch\n",
        "import torch.nn.functional as F\n",
        "from torch import nn\n",
        "from torch.utils.data import DataLoader\n",
        "from torchvision import datasets\n",
        "from torchvision.transforms import ToTensor\n",
        "\n",
        "torch.manual_seed(42)"
      ]
    },
    {
      "cell_type": "markdown",
      "metadata": {
        "id": "35-qREVItoPU"
      },
      "source": [
        "PyTorch offre librerie specifiche per domini come [TorchText](https://pytorch.org/text/stable/index.html),\n",
        "[TorchVision](https://pytorch.org/vision/stable/index.html) e [TorchAudio](https://pytorch.org/audio/stable/index.html),\n",
        "tutte le quali includono insiemi di dati.\n",
        "\n",
        "Per questo tutorial, useremo un insieme di dati di **TorchVision**.\n",
        "\n",
        "Il modulo ``torchvision.datasets`` contiene oggetti ``Dataset`` per molti dataset comuni di visione come per esempio\n",
        "CIFAR, COCO e altri ([elenco completo qui](https://pytorch.org/vision/stable/datasets.html)).\n",
        "\n",
        "In questo tutorial, utilizziamo l'insieme di dati **FashionMNIST**."
      ]
    },
    {
      "cell_type": "code",
      "execution_count": 3,
      "metadata": {
        "colab": {
          "base_uri": "https://localhost:8080/"
        },
        "id": "O87da_hLtoPU",
        "outputId": "8cbb513e-0a40-4929-8262-b5a93bec7685"
      },
      "outputs": [
        {
          "output_type": "stream",
          "name": "stdout",
          "text": [
            "Downloading http://fashion-mnist.s3-website.eu-central-1.amazonaws.com/train-images-idx3-ubyte.gz\n",
            "Downloading http://fashion-mnist.s3-website.eu-central-1.amazonaws.com/train-images-idx3-ubyte.gz to data/FashionMNIST/raw/train-images-idx3-ubyte.gz\n"
          ]
        },
        {
          "output_type": "stream",
          "name": "stderr",
          "text": [
            "100%|██████████| 26421880/26421880 [00:02<00:00, 10993579.82it/s]\n"
          ]
        },
        {
          "output_type": "stream",
          "name": "stdout",
          "text": [
            "Extracting data/FashionMNIST/raw/train-images-idx3-ubyte.gz to data/FashionMNIST/raw\n",
            "\n",
            "Downloading http://fashion-mnist.s3-website.eu-central-1.amazonaws.com/train-labels-idx1-ubyte.gz\n",
            "Downloading http://fashion-mnist.s3-website.eu-central-1.amazonaws.com/train-labels-idx1-ubyte.gz to data/FashionMNIST/raw/train-labels-idx1-ubyte.gz\n"
          ]
        },
        {
          "output_type": "stream",
          "name": "stderr",
          "text": [
            "100%|██████████| 29515/29515 [00:00<00:00, 197663.20it/s]\n"
          ]
        },
        {
          "output_type": "stream",
          "name": "stdout",
          "text": [
            "Extracting data/FashionMNIST/raw/train-labels-idx1-ubyte.gz to data/FashionMNIST/raw\n",
            "\n",
            "Downloading http://fashion-mnist.s3-website.eu-central-1.amazonaws.com/t10k-images-idx3-ubyte.gz\n",
            "Downloading http://fashion-mnist.s3-website.eu-central-1.amazonaws.com/t10k-images-idx3-ubyte.gz to data/FashionMNIST/raw/t10k-images-idx3-ubyte.gz\n"
          ]
        },
        {
          "output_type": "stream",
          "name": "stderr",
          "text": [
            "100%|██████████| 4422102/4422102 [00:01<00:00, 3669135.97it/s]\n"
          ]
        },
        {
          "output_type": "stream",
          "name": "stdout",
          "text": [
            "Extracting data/FashionMNIST/raw/t10k-images-idx3-ubyte.gz to data/FashionMNIST/raw\n",
            "\n",
            "Downloading http://fashion-mnist.s3-website.eu-central-1.amazonaws.com/t10k-labels-idx1-ubyte.gz\n",
            "Downloading http://fashion-mnist.s3-website.eu-central-1.amazonaws.com/t10k-labels-idx1-ubyte.gz to data/FashionMNIST/raw/t10k-labels-idx1-ubyte.gz\n"
          ]
        },
        {
          "output_type": "stream",
          "name": "stderr",
          "text": [
            "100%|██████████| 5148/5148 [00:00<00:00, 10872244.21it/s]"
          ]
        },
        {
          "output_type": "stream",
          "name": "stdout",
          "text": [
            "Extracting data/FashionMNIST/raw/t10k-labels-idx1-ubyte.gz to data/FashionMNIST/raw\n",
            "\n"
          ]
        },
        {
          "output_type": "stream",
          "name": "stderr",
          "text": [
            "\n"
          ]
        }
      ],
      "source": [
        "# Download training data from open datasets.\n",
        "training_data = datasets.FashionMNIST(\n",
        "    root=\"data\",\n",
        "    train=True,\n",
        "    download=True,\n",
        "    transform=ToTensor(),\n",
        ")\n",
        "\n",
        "# Download test data from open datasets.\n",
        "test_data = datasets.FashionMNIST(\n",
        "    root=\"data\",\n",
        "    train=False,\n",
        "    download=True,\n",
        "    transform=ToTensor(),\n",
        ")"
      ]
    },
    {
      "cell_type": "markdown",
      "source": [
        "## Esploriamo il dataset FashionMNIST"
      ],
      "metadata": {
        "id": "JLw50uBN4t9h"
      }
    },
    {
      "cell_type": "markdown",
      "source": [
        "Esploriamo il contenuto dei due ``Dataset``.\n",
        "\n",
        "Prima di tutto, guardiamo quanti elementi contiene ciascun dataset utilizzando la funzione Python `len()`."
      ],
      "metadata": {
        "id": "9w-3yLOm9TnR"
      }
    },
    {
      "cell_type": "code",
      "source": [
        "len(training_data), len(test_data)"
      ],
      "metadata": {
        "colab": {
          "base_uri": "https://localhost:8080/"
        },
        "id": "od2M5bNW9Hln",
        "outputId": "0ded1e02-33a2-451e-f240-44bc8d94bf77"
      },
      "execution_count": 4,
      "outputs": [
        {
          "output_type": "execute_result",
          "data": {
            "text/plain": [
              "(60000, 10000)"
            ]
          },
          "metadata": {},
          "execution_count": 4
        }
      ]
    },
    {
      "cell_type": "markdown",
      "source": [
        "Quindi `training_data`, il `Dataset` di addestramento del modello, contiene 60000 oggetti, mentre `test_data` ne contiene 10000.\n",
        "\n",
        "Andiamo ad esplorare il primo elemento di `training_data`."
      ],
      "metadata": {
        "id": "tyu77k9B9ybY"
      }
    },
    {
      "cell_type": "code",
      "source": [
        "print(training_data[0])"
      ],
      "metadata": {
        "colab": {
          "base_uri": "https://localhost:8080/"
        },
        "id": "UJdWcIxC9_aj",
        "outputId": "1258c81d-0ff0-47e5-9cdc-cdd0a1210e7e"
      },
      "execution_count": 5,
      "outputs": [
        {
          "output_type": "stream",
          "name": "stdout",
          "text": [
            "(tensor([[[0.0000, 0.0000, 0.0000, 0.0000, 0.0000, 0.0000, 0.0000, 0.0000,\n",
            "          0.0000, 0.0000, 0.0000, 0.0000, 0.0000, 0.0000, 0.0000, 0.0000,\n",
            "          0.0000, 0.0000, 0.0000, 0.0000, 0.0000, 0.0000, 0.0000, 0.0000,\n",
            "          0.0000, 0.0000, 0.0000, 0.0000],\n",
            "         [0.0000, 0.0000, 0.0000, 0.0000, 0.0000, 0.0000, 0.0000, 0.0000,\n",
            "          0.0000, 0.0000, 0.0000, 0.0000, 0.0000, 0.0000, 0.0000, 0.0000,\n",
            "          0.0000, 0.0000, 0.0000, 0.0000, 0.0000, 0.0000, 0.0000, 0.0000,\n",
            "          0.0000, 0.0000, 0.0000, 0.0000],\n",
            "         [0.0000, 0.0000, 0.0000, 0.0000, 0.0000, 0.0000, 0.0000, 0.0000,\n",
            "          0.0000, 0.0000, 0.0000, 0.0000, 0.0000, 0.0000, 0.0000, 0.0000,\n",
            "          0.0000, 0.0000, 0.0000, 0.0000, 0.0000, 0.0000, 0.0000, 0.0000,\n",
            "          0.0000, 0.0000, 0.0000, 0.0000],\n",
            "         [0.0000, 0.0000, 0.0000, 0.0000, 0.0000, 0.0000, 0.0000, 0.0000,\n",
            "          0.0000, 0.0000, 0.0000, 0.0000, 0.0039, 0.0000, 0.0000, 0.0510,\n",
            "          0.2863, 0.0000, 0.0000, 0.0039, 0.0157, 0.0000, 0.0000, 0.0000,\n",
            "          0.0000, 0.0039, 0.0039, 0.0000],\n",
            "         [0.0000, 0.0000, 0.0000, 0.0000, 0.0000, 0.0000, 0.0000, 0.0000,\n",
            "          0.0000, 0.0000, 0.0000, 0.0000, 0.0118, 0.0000, 0.1412, 0.5333,\n",
            "          0.4980, 0.2431, 0.2118, 0.0000, 0.0000, 0.0000, 0.0039, 0.0118,\n",
            "          0.0157, 0.0000, 0.0000, 0.0118],\n",
            "         [0.0000, 0.0000, 0.0000, 0.0000, 0.0000, 0.0000, 0.0000, 0.0000,\n",
            "          0.0000, 0.0000, 0.0000, 0.0000, 0.0235, 0.0000, 0.4000, 0.8000,\n",
            "          0.6902, 0.5255, 0.5647, 0.4824, 0.0902, 0.0000, 0.0000, 0.0000,\n",
            "          0.0000, 0.0471, 0.0392, 0.0000],\n",
            "         [0.0000, 0.0000, 0.0000, 0.0000, 0.0000, 0.0000, 0.0000, 0.0000,\n",
            "          0.0000, 0.0000, 0.0000, 0.0000, 0.0000, 0.0000, 0.6078, 0.9255,\n",
            "          0.8118, 0.6980, 0.4196, 0.6118, 0.6314, 0.4275, 0.2510, 0.0902,\n",
            "          0.3020, 0.5098, 0.2824, 0.0588],\n",
            "         [0.0000, 0.0000, 0.0000, 0.0000, 0.0000, 0.0000, 0.0000, 0.0000,\n",
            "          0.0000, 0.0000, 0.0000, 0.0039, 0.0000, 0.2706, 0.8118, 0.8745,\n",
            "          0.8549, 0.8471, 0.8471, 0.6392, 0.4980, 0.4745, 0.4784, 0.5725,\n",
            "          0.5529, 0.3451, 0.6745, 0.2588],\n",
            "         [0.0000, 0.0000, 0.0000, 0.0000, 0.0000, 0.0000, 0.0000, 0.0000,\n",
            "          0.0000, 0.0039, 0.0039, 0.0039, 0.0000, 0.7843, 0.9098, 0.9098,\n",
            "          0.9137, 0.8980, 0.8745, 0.8745, 0.8431, 0.8353, 0.6431, 0.4980,\n",
            "          0.4824, 0.7686, 0.8980, 0.0000],\n",
            "         [0.0000, 0.0000, 0.0000, 0.0000, 0.0000, 0.0000, 0.0000, 0.0000,\n",
            "          0.0000, 0.0000, 0.0000, 0.0000, 0.0000, 0.7176, 0.8824, 0.8471,\n",
            "          0.8745, 0.8941, 0.9216, 0.8902, 0.8784, 0.8706, 0.8784, 0.8667,\n",
            "          0.8745, 0.9608, 0.6784, 0.0000],\n",
            "         [0.0000, 0.0000, 0.0000, 0.0000, 0.0000, 0.0000, 0.0000, 0.0000,\n",
            "          0.0000, 0.0000, 0.0000, 0.0000, 0.0000, 0.7569, 0.8941, 0.8549,\n",
            "          0.8353, 0.7765, 0.7059, 0.8314, 0.8235, 0.8275, 0.8353, 0.8745,\n",
            "          0.8627, 0.9529, 0.7922, 0.0000],\n",
            "         [0.0000, 0.0000, 0.0000, 0.0000, 0.0000, 0.0000, 0.0000, 0.0000,\n",
            "          0.0000, 0.0039, 0.0118, 0.0000, 0.0471, 0.8588, 0.8627, 0.8314,\n",
            "          0.8549, 0.7529, 0.6627, 0.8902, 0.8157, 0.8549, 0.8784, 0.8314,\n",
            "          0.8863, 0.7725, 0.8196, 0.2039],\n",
            "         [0.0000, 0.0000, 0.0000, 0.0000, 0.0000, 0.0000, 0.0000, 0.0000,\n",
            "          0.0000, 0.0000, 0.0235, 0.0000, 0.3882, 0.9569, 0.8706, 0.8627,\n",
            "          0.8549, 0.7961, 0.7765, 0.8667, 0.8431, 0.8353, 0.8706, 0.8627,\n",
            "          0.9608, 0.4667, 0.6549, 0.2196],\n",
            "         [0.0000, 0.0000, 0.0000, 0.0000, 0.0000, 0.0000, 0.0000, 0.0000,\n",
            "          0.0000, 0.0157, 0.0000, 0.0000, 0.2157, 0.9255, 0.8941, 0.9020,\n",
            "          0.8941, 0.9412, 0.9098, 0.8353, 0.8549, 0.8745, 0.9176, 0.8510,\n",
            "          0.8510, 0.8196, 0.3608, 0.0000],\n",
            "         [0.0000, 0.0000, 0.0039, 0.0157, 0.0235, 0.0275, 0.0078, 0.0000,\n",
            "          0.0000, 0.0000, 0.0000, 0.0000, 0.9294, 0.8863, 0.8510, 0.8745,\n",
            "          0.8706, 0.8588, 0.8706, 0.8667, 0.8471, 0.8745, 0.8980, 0.8431,\n",
            "          0.8549, 1.0000, 0.3020, 0.0000],\n",
            "         [0.0000, 0.0118, 0.0000, 0.0000, 0.0000, 0.0000, 0.0000, 0.0000,\n",
            "          0.0000, 0.2431, 0.5686, 0.8000, 0.8941, 0.8118, 0.8353, 0.8667,\n",
            "          0.8549, 0.8157, 0.8275, 0.8549, 0.8784, 0.8745, 0.8588, 0.8431,\n",
            "          0.8784, 0.9569, 0.6235, 0.0000],\n",
            "         [0.0000, 0.0000, 0.0000, 0.0000, 0.0706, 0.1725, 0.3216, 0.4196,\n",
            "          0.7412, 0.8941, 0.8627, 0.8706, 0.8510, 0.8863, 0.7843, 0.8039,\n",
            "          0.8275, 0.9020, 0.8784, 0.9176, 0.6902, 0.7373, 0.9804, 0.9725,\n",
            "          0.9137, 0.9333, 0.8431, 0.0000],\n",
            "         [0.0000, 0.2235, 0.7333, 0.8157, 0.8784, 0.8667, 0.8784, 0.8157,\n",
            "          0.8000, 0.8392, 0.8157, 0.8196, 0.7843, 0.6235, 0.9608, 0.7569,\n",
            "          0.8078, 0.8745, 1.0000, 1.0000, 0.8667, 0.9176, 0.8667, 0.8275,\n",
            "          0.8627, 0.9098, 0.9647, 0.0000],\n",
            "         [0.0118, 0.7922, 0.8941, 0.8784, 0.8667, 0.8275, 0.8275, 0.8392,\n",
            "          0.8039, 0.8039, 0.8039, 0.8627, 0.9412, 0.3137, 0.5882, 1.0000,\n",
            "          0.8980, 0.8667, 0.7373, 0.6039, 0.7490, 0.8235, 0.8000, 0.8196,\n",
            "          0.8706, 0.8941, 0.8824, 0.0000],\n",
            "         [0.3843, 0.9137, 0.7765, 0.8235, 0.8706, 0.8980, 0.8980, 0.9176,\n",
            "          0.9765, 0.8627, 0.7608, 0.8431, 0.8510, 0.9451, 0.2549, 0.2863,\n",
            "          0.4157, 0.4588, 0.6588, 0.8588, 0.8667, 0.8431, 0.8510, 0.8745,\n",
            "          0.8745, 0.8784, 0.8980, 0.1137],\n",
            "         [0.2941, 0.8000, 0.8314, 0.8000, 0.7569, 0.8039, 0.8275, 0.8824,\n",
            "          0.8471, 0.7255, 0.7725, 0.8078, 0.7765, 0.8353, 0.9412, 0.7647,\n",
            "          0.8902, 0.9608, 0.9373, 0.8745, 0.8549, 0.8314, 0.8196, 0.8706,\n",
            "          0.8627, 0.8667, 0.9020, 0.2627],\n",
            "         [0.1882, 0.7961, 0.7176, 0.7608, 0.8353, 0.7725, 0.7255, 0.7451,\n",
            "          0.7608, 0.7529, 0.7922, 0.8392, 0.8588, 0.8667, 0.8627, 0.9255,\n",
            "          0.8824, 0.8471, 0.7804, 0.8078, 0.7294, 0.7098, 0.6941, 0.6745,\n",
            "          0.7098, 0.8039, 0.8078, 0.4510],\n",
            "         [0.0000, 0.4784, 0.8588, 0.7569, 0.7020, 0.6706, 0.7176, 0.7686,\n",
            "          0.8000, 0.8235, 0.8353, 0.8118, 0.8275, 0.8235, 0.7843, 0.7686,\n",
            "          0.7608, 0.7490, 0.7647, 0.7490, 0.7765, 0.7529, 0.6902, 0.6118,\n",
            "          0.6549, 0.6941, 0.8235, 0.3608],\n",
            "         [0.0000, 0.0000, 0.2902, 0.7412, 0.8314, 0.7490, 0.6863, 0.6745,\n",
            "          0.6863, 0.7098, 0.7255, 0.7373, 0.7412, 0.7373, 0.7569, 0.7765,\n",
            "          0.8000, 0.8196, 0.8235, 0.8235, 0.8275, 0.7373, 0.7373, 0.7608,\n",
            "          0.7529, 0.8471, 0.6667, 0.0000],\n",
            "         [0.0078, 0.0000, 0.0000, 0.0000, 0.2588, 0.7843, 0.8706, 0.9294,\n",
            "          0.9373, 0.9490, 0.9647, 0.9529, 0.9569, 0.8667, 0.8627, 0.7569,\n",
            "          0.7490, 0.7020, 0.7137, 0.7137, 0.7098, 0.6902, 0.6510, 0.6588,\n",
            "          0.3882, 0.2275, 0.0000, 0.0000],\n",
            "         [0.0000, 0.0000, 0.0000, 0.0000, 0.0000, 0.0000, 0.0000, 0.1569,\n",
            "          0.2392, 0.1725, 0.2824, 0.1608, 0.1373, 0.0000, 0.0000, 0.0000,\n",
            "          0.0000, 0.0000, 0.0000, 0.0000, 0.0000, 0.0000, 0.0000, 0.0000,\n",
            "          0.0000, 0.0000, 0.0000, 0.0000],\n",
            "         [0.0000, 0.0000, 0.0000, 0.0000, 0.0000, 0.0000, 0.0000, 0.0000,\n",
            "          0.0000, 0.0000, 0.0000, 0.0000, 0.0000, 0.0000, 0.0000, 0.0000,\n",
            "          0.0000, 0.0000, 0.0000, 0.0000, 0.0000, 0.0000, 0.0000, 0.0000,\n",
            "          0.0000, 0.0000, 0.0000, 0.0000],\n",
            "         [0.0000, 0.0000, 0.0000, 0.0000, 0.0000, 0.0000, 0.0000, 0.0000,\n",
            "          0.0000, 0.0000, 0.0000, 0.0000, 0.0000, 0.0000, 0.0000, 0.0000,\n",
            "          0.0000, 0.0000, 0.0000, 0.0000, 0.0000, 0.0000, 0.0000, 0.0000,\n",
            "          0.0000, 0.0000, 0.0000, 0.0000]]]), 9)\n"
          ]
        }
      ]
    },
    {
      "cell_type": "markdown",
      "source": [
        "Scopriamo così che gli elementi di `training_data` sono delle *tuple*, cioè coppie di elementi.\n",
        "\n",
        "Il primo elemento di ciascuna coppia è un oggetto `tensor` e il secondo elemento un numero.\n",
        "\n",
        "Per meglio vederli assegniamo ciascun elemento ad una variabile e interroghiamone le caratteristiche."
      ],
      "metadata": {
        "id": "jBcQLsyp-YWr"
      }
    },
    {
      "cell_type": "code",
      "source": [
        "X0, y0 = training_data[0]\n",
        "print('Tipo del primo elemento: ', type(X0))\n",
        "print('Forma e dimensioni del primo elemento: ', X0.shape)\n",
        "print('Tipo dei contenuti del primo elemento: ', X0.dtype)\n",
        "print('Tipo secondo elemento: ', type(y0))"
      ],
      "metadata": {
        "colab": {
          "base_uri": "https://localhost:8080/"
        },
        "id": "RKrVcWdX-5Yx",
        "outputId": "c5c39d66-85ea-486f-9616-565a7c686d91"
      },
      "execution_count": 6,
      "outputs": [
        {
          "output_type": "stream",
          "name": "stdout",
          "text": [
            "Tipo del primo elemento:  <class 'torch.Tensor'>\n",
            "Forma e dimensioni del primo elemento:  torch.Size([1, 28, 28])\n",
            "Tipo dei contenuti del primo elemento:  torch.float32\n",
            "Tipo secondo elemento:  <class 'int'>\n"
          ]
        }
      ]
    },
    {
      "cell_type": "markdown",
      "source": [
        "* Il primo elemento è un oggetto che appartiene alla classe [`torch.Tensor`](https://pytorch.org/docs/stable/tensors.html).\n",
        "* Il secondo elemento è un numero intero, `int`.\n",
        "* Il primo elemento ha dimensione 1x28x28 e contiene dei numeri in virgola mobile, `torch.float32`.\n",
        "\n",
        "Possiamo trattare il primo elemento come un'immagine, un'immagine con un solo canale (quindi in scala di grigio) e con dimensioni in pixel 28x28."
      ],
      "metadata": {
        "id": "zksD5UVO_VOZ"
      }
    },
    {
      "cell_type": "markdown",
      "source": [
        "La libreria `matplotlib` è solitamente usata in Python per visualizzare le immagini.\n",
        "\n",
        "Possiamo usarla per visualizzare il contenuto del primo (e unico) canale dell'immagine, cioè il canale 0."
      ],
      "metadata": {
        "id": "2In30sjX7q1G"
      }
    },
    {
      "cell_type": "code",
      "source": [
        "from matplotlib import pyplot as plt\n",
        "\n",
        "channel=0\n",
        "plt.imshow(X0[channel,...], cmap='gray')"
      ],
      "metadata": {
        "colab": {
          "base_uri": "https://localhost:8080/",
          "height": 448
        },
        "id": "jCmGxU1J_4IU",
        "outputId": "2df30a8b-a3ee-4e72-9084-80ef1504482f"
      },
      "execution_count": 7,
      "outputs": [
        {
          "output_type": "execute_result",
          "data": {
            "text/plain": [
              "<matplotlib.image.AxesImage at 0x7bffb2ced8d0>"
            ]
          },
          "metadata": {},
          "execution_count": 7
        },
        {
          "output_type": "display_data",
          "data": {
            "text/plain": [
              "<Figure size 640x480 with 1 Axes>"
            ],
            "image/png": "[encoded data removed]"
          },
          "metadata": {}
        }
      ]
    },
    {
      "cell_type": "markdown",
      "source": [
        "Abbiamo scoperto che `training_data`, e analogamente si può verificare `test_data`, contengono un insieme di coppie (*tuple*).\n",
        "\n",
        "Il primo elemento di ciascuna coppia è un'immagine di un vestiario, nel caso precedente sembra essere uno scarpone, e il secondo elemento è un numero.\n",
        "\n",
        "La descrizione del dataset [FashionMNIST](https://github.com/zalandoresearch/fashion-mnist) conferma la nostra analisi e ci informa anche che ogni numero è un'etichetta della categoria dell'oggetto ritratto nell'immagine.\n",
        "\n",
        "Qui di seguito ho riportato per comodità le 10 etichette e la loro descrizione.\n",
        "\n",
        "| Label |\tDescription |\n",
        "| ----- | ----------- |\n",
        "| 0\t| T-shirt/top |\n",
        "| 1\t| Trouser |\n",
        "| 2\t| Pullover |\n",
        "| 3\t| Dress |\n",
        "| 4\t| Coat |\n",
        "| 5\t| Sandal |\n",
        "| 6\t| Shirt |\n",
        "| 7\t| Sneaker |\n",
        "| 8\t| Bag |\n",
        "| 9\t| Ankle boot |"
      ],
      "metadata": {
        "id": "6xpHswWxAQBm"
      }
    },
    {
      "cell_type": "markdown",
      "source": [
        "## Il DataLoader"
      ],
      "metadata": {
        "id": "POeWyH7b53Yb"
      }
    },
    {
      "cell_type": "markdown",
      "metadata": {
        "id": "2qVyyslktoPU"
      },
      "source": [
        "Passiamo il ``Dataset`` come argomento a ``DataLoader``. Questo produce un iterabile sul nostro insieme di dati che supporta diverse funzionalità frequentemente utilizzate per il Machine Learning:\n",
        "\n",
        "*   l'aggregazione (*batching*)\n",
        "*   il campionamento (*sampling*)\n",
        "*   la mescolatura casuale (*shuffling*)\n",
        "* il caricamento parallelo dei dati.\n",
        "\n",
        "Qui usiamo l'aggregazione e definiamo una dimensione del *batch* di 64, cioè ogni elemento nell'iterabile del dataloader restituirà un blocco di 64 coppie di immagini ed etichette.\n",
        "\n"
      ]
    },
    {
      "cell_type": "code",
      "execution_count": 8,
      "metadata": {
        "id": "gK_edbYktoPV",
        "colab": {
          "base_uri": "https://localhost:8080/"
        },
        "outputId": "28ad3352-9254-4991-b5ee-2b183e03fb9a"
      },
      "outputs": [
        {
          "output_type": "stream",
          "name": "stdout",
          "text": [
            "Forma e dimensioni di X [N, C, H, W]: torch.Size([64, 1, 28, 28])\n",
            "Forma e dimensioni di y [N]: torch.Size([64]) torch.int64\n"
          ]
        }
      ],
      "source": [
        "batch_size = 64\n",
        "\n",
        "# Crea i data loader.\n",
        "train_dataloader = DataLoader(training_data, batch_size=batch_size)\n",
        "test_dataloader = DataLoader(test_data, batch_size=batch_size)\n",
        "\n",
        "for X, y in test_dataloader:\n",
        "    print(f\"Forma e dimensioni di X [N, C, H, W]: {X.shape}\")\n",
        "    print(f\"Forma e dimensioni di y [N]: {y.shape} {y.dtype}\")\n",
        "    break"
      ]
    },
    {
      "cell_type": "markdown",
      "source": [
        "La prima dimensione ci permette di accedere agli `N` elementi, 64 in questo caso, presenti in ciascun blocco.\n",
        "\n",
        "A questo punto abbiamo caricato i dati e sappiamo come accedervi.\n",
        "\n",
        "Passiamo a costruire la prima semplice rete neurale che elaborerà questi dati."
      ],
      "metadata": {
        "id": "0O6_cgBs8hrG"
      }
    },
    {
      "cell_type": "markdown",
      "metadata": {
        "id": "pdWL15JKtoPV"
      },
      "source": [
        "Per maggiori informazioni: [DATASETS & DATALOADERS](https://pytorch.org/tutorials/beginner/basics/data_tutorial.html).\n",
        "\n",
        "\n"
      ]
    },
    {
      "cell_type": "markdown",
      "metadata": {
        "id": "wQS-UBAbtoPV"
      },
      "source": [
        "--------------\n",
        "\n",
        "\n"
      ]
    },
    {
      "cell_type": "markdown",
      "source": [
        "# Architettura della Rete Neurale"
      ],
      "metadata": {
        "id": "_WdAVJcO69eg"
      }
    },
    {
      "cell_type": "markdown",
      "source": [
        "Creiamo ora una semplice rete neurale che riceve in ingresso delle immagini con 28x28 pixel (quindi 784 pixel) e in uscita attiva 10 neuroni per classificare l'immagine in una delle 10 categorie precedenti.\n",
        "\n",
        "Per ora non useremo reti convoluzionali ma le reti neurali *fully connected* (il *Perceptron* e il *Multi Layer Perceptron* sono reti neurali fully connected).\n",
        "\n",
        "Per iniziare useremo il **Perceptron**."
      ],
      "metadata": {
        "id": "w0MubLjmtSCP"
      }
    },
    {
      "cell_type": "markdown",
      "source": [
        "### Codice per generare il diagramma architetturale"
      ],
      "metadata": {
        "id": "vEIpDxnr5aY1"
      }
    },
    {
      "cell_type": "code",
      "source": [
        "!pip install svgwrite"
      ],
      "metadata": {
        "colab": {
          "base_uri": "https://localhost:8080/"
        },
        "id": "nkLPtfU8twZE",
        "outputId": "4c01ca80-9685-406e-e21b-66536e45821c"
      },
      "execution_count": 9,
      "outputs": [
        {
          "output_type": "stream",
          "name": "stdout",
          "text": [
            "Collecting svgwrite\n",
            "  Downloading svgwrite-1.4.3-py3-none-any.whl (67 kB)\n",
            "\u001b[?25l     \u001b[90m━━━━━━━━━━━━━━━━━━━━━━━━━━━━━━━━━━━━━━━━\u001b[0m \u001b[32m0.0/67.1 kB\u001b[0m \u001b[31m?\u001b[0m eta \u001b[36m-:--:--\u001b[0m\r\u001b[2K     \u001b[90m━━━━━━━━━━━━━━━━━━━━━━━━━━━━━━━━━━━━━━━━\u001b[0m \u001b[32m67.1/67.1 kB\u001b[0m \u001b[31m3.3 MB/s\u001b[0m eta \u001b[36m0:00:00\u001b[0m\n",
            "\u001b[?25hInstalling collected packages: svgwrite\n",
            "Successfully installed svgwrite-1.4.3\n"
          ]
        }
      ]
    },
    {
      "cell_type": "code",
      "source": [
        "import svgwrite\n",
        "from IPython.display import SVG, display"
      ],
      "metadata": {
        "id": "U5rY75f0t2Hy"
      },
      "execution_count": 10,
      "outputs": []
    },
    {
      "cell_type": "code",
      "source": [
        "def create_mlp_svg(input_neurons, output_neurons, input_label, output_label, hidden_layers=[], hidden_labels=([], [])):\n",
        "    # Define the colors for the input, hidden, and output layers\n",
        "    layer_colors = ['#89CFF0', '#C3B1E1', '#FDE910']\n",
        "\n",
        "    # Set the vertical distance between neurons and the radius of the circles\n",
        "    vdist = 100\n",
        "    radius = 20\n",
        "    top_margin = 60  # space for layer labels\n",
        "\n",
        "    # Calculate the width and height of the diagram\n",
        "    max_neurons = max([input_neurons] + hidden_layers + [output_neurons])\n",
        "    width = (len(hidden_layers) + 2) * 2 * radius * 3\n",
        "    height = max_neurons * vdist + top_margin\n",
        "\n",
        "    # Create a new SVG drawing\n",
        "    dwg = svgwrite.Drawing('mlp.svg', size=(width, height))\n",
        "\n",
        "    # Add an arrowhead marker to the drawing\n",
        "    arrow_marker = dwg.marker(insert=(5,5), size=(5,5), orient='auto')\n",
        "    arrow_marker.add(dwg.path(d='M 0 0 L 10 5 L 0 10 z', fill='black'))\n",
        "    dwg.defs.add(arrow_marker)\n",
        "\n",
        "    # Helper function to calculate neuron positions\n",
        "    def neuron_positions(neurons, layer_index):\n",
        "        x_offset = (2 * radius * 3) * layer_index + radius * 3\n",
        "        return [(x_offset, i * 2 * radius * 1.5 +\n",
        "         (height - neurons * 2 * radius * 1.5) / 2) for i in range(neurons)]\n",
        "\n",
        "    # Function to draw connections between layers\n",
        "    def draw_connections(layer1, layer2):\n",
        "        for (x1, y1) in layer1:\n",
        "            for (x2, y2) in layer2:\n",
        "                dwg.add(dwg.line(start=(x1+radius, y1), end=(x2-radius, y2),\n",
        "                                 stroke='black', stroke_width=1,\n",
        "                                 marker_end=arrow_marker.get_funciri()))\n",
        "\n",
        "    # Function to draw a single layer\n",
        "    def draw_layer(neuron_positions, color):\n",
        "        for x, y in neuron_positions:\n",
        "            dwg.add(dwg.circle(center=(x, y), r=radius, fill=color))\n",
        "\n",
        "    # Function to draw layer labels with the number of nodes on a second row\n",
        "    def draw_layer_label(x, label, nodes):\n",
        "        text = dwg.text(\"\", insert=(x, top_margin / 2), text_anchor=\"middle\",\n",
        "                        font_size=\"16px\", font_family=\"Arial\")\n",
        "        text.add(dwg.tspan(label, x=[x], dy=[\"1.2em\"])) # Position the layer name\n",
        "        text.add(dwg.tspan(nodes, x=[x], dy=[\"1.2em\"])) # Position the number of nodes on the next line\n",
        "        dwg.add(text)\n",
        "\n",
        "    # Calculate neuron positions for all layers\n",
        "    all_neuron_positions = [\n",
        "        neuron_positions(input_neurons, 0)\n",
        "    ] + [\n",
        "        neuron_positions(n, i + 1) for i, n in enumerate(hidden_layers)\n",
        "    ] + [\n",
        "        neuron_positions(output_neurons, len(hidden_layers) + 1)\n",
        "    ]\n",
        "\n",
        "    # Draw all layers and their labels\n",
        "    layer_labels = [(input_label[0], f\"({input_label[1]})\")] + \\\n",
        "                   [(label, f\"({n})\") for label, n in zip(hidden_labels[0], hidden_labels[1])] + \\\n",
        "                   [(output_label[0], f\"({output_label[1]})\")]\n",
        "    # Draw all layers\n",
        "    for i, (positions, (label, nodes)) in enumerate(zip(all_neuron_positions, layer_labels)):\n",
        "        draw_layer(positions, layer_colors[min(i, len(layer_colors) - 1)])\n",
        "        draw_layer_label(positions[len(positions) // 2][0], label, nodes)\n",
        "\n",
        "    # Draw connections between all layers\n",
        "    for i in range(len(all_neuron_positions) - 1):\n",
        "        draw_connections(all_neuron_positions[i], all_neuron_positions[i + 1])\n",
        "\n",
        "    dwg.save()\n",
        "\n",
        "    # Return the SVG xml to display\n",
        "    return dwg.tostring()"
      ],
      "metadata": {
        "id": "bWSHLps5t5fp"
      },
      "execution_count": 11,
      "outputs": []
    },
    {
      "cell_type": "markdown",
      "source": [
        "### Diagramma architetturale del Perceptron\n",
        "\n",
        "A differenza del Perceptron classico non useremo un solo neurone di uscita ma un neurone di uscita per ognuna delle 10 classi."
      ],
      "metadata": {
        "id": "8TXLmFn45gdx"
      }
    },
    {
      "cell_type": "code",
      "source": [
        "input_label = (\"Input Layer\", 784)\n",
        "output_label = (\"Output Layer\", 10)\n",
        "svg_data = create_mlp_svg(input_neurons=5, output_neurons=2,\n",
        "                          input_label=input_label, output_label=output_label)\n",
        "display(SVG(svg_data))"
      ],
      "metadata": {
        "colab": {
          "base_uri": "https://localhost:8080/",
          "height": 581
        },
        "id": "sq1SG4vduElD",
        "outputId": "0fc3d642-1b6f-4c2f-df79-19da841aef34"
      },
      "execution_count": 12,
      "outputs": [
        {
          "output_type": "display_data",
          "data": {
            "text/plain": [
              "<IPython.core.display.SVG object>"
            ],
            "image/svg+xml": "<svg xmlns=\"http://www.w3.org/2000/svg\" xmlns:ev=\"http://www.w3.org/2001/xml-events\" xmlns:xlink=\"http://www.w3.org/1999/xlink\" baseProfile=\"full\" height=\"560\" version=\"1.1\" width=\"240\"><defs><marker id=\"id1\" markerHeight=\"5\" markerWidth=\"5\" orient=\"auto\" refX=\"5\" refY=\"5\"><path d=\"M 0 0 L 10 5 L 0 10 z\" fill=\"black\"/></marker></defs><circle cx=\"60\" cy=\"130.0\" fill=\"#89CFF0\" r=\"20\"/><circle cx=\"60\" cy=\"190.0\" fill=\"#89CFF0\" r=\"20\"/><circle cx=\"60\" cy=\"250.0\" fill=\"#89CFF0\" r=\"20\"/><circle cx=\"60\" cy=\"310.0\" fill=\"#89CFF0\" r=\"20\"/><circle cx=\"60\" cy=\"370.0\" fill=\"#89CFF0\" r=\"20\"/><text font-family=\"Arial\" font-size=\"16px\" text-anchor=\"middle\" x=\"60\" y=\"30.0\"><tspan dy=\"1.2em\" x=\"60\">Input Layer</tspan><tspan dy=\"1.2em\" x=\"60\">(784)</tspan></text><circle cx=\"180\" cy=\"220.0\" fill=\"#C3B1E1\" r=\"20\"/><circle cx=\"180\" cy=\"280.0\" fill=\"#C3B1E1\" r=\"20\"/><text font-family=\"Arial\" font-size=\"16px\" text-anchor=\"middle\" x=\"180\" y=\"30.0\"><tspan dy=\"1.2em\" x=\"180\">Output Layer</tspan><tspan dy=\"1.2em\" x=\"180\">(10)</tspan></text><line marker-end=\"url(#id1)\" stroke=\"black\" stroke-width=\"1\" x1=\"80\" x2=\"160\" y1=\"130.0\" y2=\"220.0\"/><line marker-end=\"url(#id1)\" stroke=\"black\" stroke-width=\"1\" x1=\"80\" x2=\"160\" y1=\"130.0\" y2=\"280.0\"/><line marker-end=\"url(#id1)\" stroke=\"black\" stroke-width=\"1\" x1=\"80\" x2=\"160\" y1=\"190.0\" y2=\"220.0\"/><line marker-end=\"url(#id1)\" stroke=\"black\" stroke-width=\"1\" x1=\"80\" x2=\"160\" y1=\"190.0\" y2=\"280.0\"/><line marker-end=\"url(#id1)\" stroke=\"black\" stroke-width=\"1\" x1=\"80\" x2=\"160\" y1=\"250.0\" y2=\"220.0\"/><line marker-end=\"url(#id1)\" stroke=\"black\" stroke-width=\"1\" x1=\"80\" x2=\"160\" y1=\"250.0\" y2=\"280.0\"/><line marker-end=\"url(#id1)\" stroke=\"black\" stroke-width=\"1\" x1=\"80\" x2=\"160\" y1=\"310.0\" y2=\"220.0\"/><line marker-end=\"url(#id1)\" stroke=\"black\" stroke-width=\"1\" x1=\"80\" x2=\"160\" y1=\"310.0\" y2=\"280.0\"/><line marker-end=\"url(#id1)\" stroke=\"black\" stroke-width=\"1\" x1=\"80\" x2=\"160\" y1=\"370.0\" y2=\"220.0\"/><line marker-end=\"url(#id1)\" stroke=\"black\" stroke-width=\"1\" x1=\"80\" x2=\"160\" y1=\"370.0\" y2=\"280.0\"/></svg>"
          },
          "metadata": {}
        }
      ]
    },
    {
      "cell_type": "markdown",
      "source": [
        "Per semplificare il diagramma il numero dei neuroni rappresentati non corrisponde al numero di neuroni che andremo effettivamente ad utilizzare. Il numero dei neuroni effettivo è scritto nell'etichetta in alto in corrispondenza a ciascuno strato."
      ],
      "metadata": {
        "id": "xgYfo_u3uTQf"
      }
    },
    {
      "cell_type": "markdown",
      "source": [
        "Come vedete, in una rete neurale di questo tipo, ogni neurone di uno strato è collegato ad ogni neurone dello strato successivo.\n",
        "\n",
        "Le frecce rappresentano il flusso in avanti dei calcoli.\n",
        "\n",
        "All'ingresso avremo 784 neuroni per poter leggere tutti i valori dei 28x28 pixel dell'immagine in ingresso.\n",
        "\n",
        "In uscita avremo 10 neuroni, ciascun neurone è legato all'etichetta che rappresenta l'immagine. Il neurone che, al termine dei calcoli, conterrà il valore più alto ci dirà a quale categoria appartiene l'immagine."
      ],
      "metadata": {
        "id": "4epLtstJugZL"
      }
    },
    {
      "cell_type": "markdown",
      "source": [
        "## Creazione del Modello"
      ],
      "metadata": {
        "id": "nylg5e90ReFl"
      }
    },
    {
      "cell_type": "code",
      "execution_count": 13,
      "metadata": {
        "id": "ie4sEgTctoPV",
        "colab": {
          "base_uri": "https://localhost:8080/"
        },
        "outputId": "e1b47667-5c46-461e-e4e3-871acd7d9ccf"
      },
      "outputs": [
        {
          "output_type": "stream",
          "name": "stdout",
          "text": [
            "Using cpu device\n"
          ]
        }
      ],
      "source": [
        "# Get cpu, gpu or mps device for training.\n",
        "device = (\n",
        "    \"cuda\"\n",
        "    if torch.cuda.is_available()\n",
        "    else \"mps\"\n",
        "    if torch.backends.mps.is_available()\n",
        "    else \"cpu\"\n",
        ")\n",
        "print(f\"Using {device} device\")"
      ]
    },
    {
      "cell_type": "markdown",
      "metadata": {
        "id": "qmwQqF4ftoPV"
      },
      "source": [
        "Per definire una rete neurale in PyTorch, creiamo una classe che eredita da [nn.Module](https://pytorch.org/docs/stable/generated/torch.nn.Module.html).\n",
        "\n",
        "Definiamo gli strati della rete\n",
        "nella funzione ``__init__`` e specifichiamo come i dati passeranno attraverso la rete nella funzione ``forward``.\n"
      ]
    },
    {
      "cell_type": "code",
      "source": [
        "# Define perceptron model\n",
        "class Perceptron(nn.Module):\n",
        "    def __init__(self):\n",
        "        super().__init__()\n",
        "        self.flatten = nn.Flatten()\n",
        "        self.linear_sigmoid = nn.Sequential(\n",
        "            nn.Linear(28*28, 10),\n",
        "            nn.Sigmoid()\n",
        "        )\n",
        "\n",
        "    def forward(self, x):\n",
        "        x = self.flatten(x)\n",
        "        logits = self.linear_sigmoid(x)\n",
        "        return logits"
      ],
      "metadata": {
        "id": "NYAmQx1fBrkj"
      },
      "execution_count": 14,
      "outputs": []
    },
    {
      "cell_type": "markdown",
      "source": [
        "Creiamo un'istanza del modello e visualizziamone il contenuto."
      ],
      "metadata": {
        "id": "wL7khTjISWss"
      }
    },
    {
      "cell_type": "code",
      "source": [
        "model = Perceptron().to(device)\n",
        "model"
      ],
      "metadata": {
        "colab": {
          "base_uri": "https://localhost:8080/"
        },
        "id": "py0pcdSh7RC8",
        "outputId": "8e0fb223-17c7-4f5f-fe95-972ff6b84a18"
      },
      "execution_count": 15,
      "outputs": [
        {
          "output_type": "execute_result",
          "data": {
            "text/plain": [
              "Perceptron(\n",
              "  (flatten): Flatten(start_dim=1, end_dim=-1)\n",
              "  (linear_sigmoid): Sequential(\n",
              "    (0): Linear(in_features=784, out_features=10, bias=True)\n",
              "    (1): Sigmoid()\n",
              "  )\n",
              ")"
            ]
          },
          "metadata": {},
          "execution_count": 15
        }
      ]
    },
    {
      "cell_type": "markdown",
      "source": [
        "Un'altra opzione è quella di usare la funzione `summary` che fornisce ulteriori dettagli.\n",
        "\n",
        "In particolare vediamo per ogni strato il tipo, la forma (shape) del risultato di uscita dello strato e il numero di parametri (pesi) associati allo strato. Inoltre, la funzione riporta anche il numero totale di parametri. Questa è una prima indicazione della complessità del modello."
      ],
      "metadata": {
        "id": "vBdWZI6KzmEL"
      }
    },
    {
      "cell_type": "code",
      "source": [
        "from torchsummary import summary\n",
        "\n",
        "summary(model,(1,28,28))"
      ],
      "metadata": {
        "colab": {
          "base_uri": "https://localhost:8080/"
        },
        "id": "tvxVTLZj9Snv",
        "outputId": "19f25317-de3a-40fe-8c3a-4e1eda7c59eb"
      },
      "execution_count": 16,
      "outputs": [
        {
          "output_type": "stream",
          "name": "stdout",
          "text": [
            "----------------------------------------------------------------\n",
            "        Layer (type)               Output Shape         Param #\n",
            "================================================================\n",
            "           Flatten-1                  [-1, 784]               0\n",
            "            Linear-2                   [-1, 10]           7,850\n",
            "           Sigmoid-3                   [-1, 10]               0\n",
            "================================================================\n",
            "Total params: 7,850\n",
            "Trainable params: 7,850\n",
            "Non-trainable params: 0\n",
            "----------------------------------------------------------------\n",
            "Input size (MB): 0.00\n",
            "Forward/backward pass size (MB): 0.01\n",
            "Params size (MB): 0.03\n",
            "Estimated Total Size (MB): 0.04\n",
            "----------------------------------------------------------------\n"
          ]
        }
      ]
    },
    {
      "cell_type": "markdown",
      "source": [
        "## Digressione: la funzione di uscita Sigmoide"
      ],
      "metadata": {
        "id": "_EYgAx2jHPWq"
      }
    },
    {
      "cell_type": "code",
      "source": [
        "# Create input values\n",
        "x = torch.linspace(-5, 5, 100)\n",
        "\n",
        "# Calculate sigmoid outputs\n",
        "y = F.sigmoid(x)\n",
        "\n",
        "# Plot the graph\n",
        "plt.plot(x.numpy(), y.numpy())\n",
        "\n",
        "# Add labels and title\n",
        "plt.xlabel(\"Input (x)\")\n",
        "plt.ylabel(\"Output (y)\")\n",
        "plt.title(\"Sigmoid Function Graph\")\n",
        "\n",
        "# Show the plot\n",
        "plt.show()\n"
      ],
      "metadata": {
        "colab": {
          "base_uri": "https://localhost:8080/",
          "height": 472
        },
        "id": "e3VmLVDyG6lI",
        "outputId": "060834d3-1598-4221-de4a-37ddd4b7af00"
      },
      "execution_count": 17,
      "outputs": [
        {
          "output_type": "display_data",
          "data": {
            "text/plain": [
              "<Figure size 640x480 with 1 Axes>"
            ],
            "image/png": "[encoded data removed]"
          },
          "metadata": {}
        }
      ]
    },
    {
      "cell_type": "markdown",
      "source": [
        "## Il metodo `forward`\n",
        "\n",
        "Proviamo ora ad usare la rete neurale che abbiamo appena creato grazie al suo metodo `forward`.\n",
        "\n",
        "Usiamo come input il blocco `X` di 64 immagini che avevamo caricato precedentemente.\n",
        "\n",
        "Esaminiamo poi il valore dei 10 neuroni per il primo elemento del blocco."
      ],
      "metadata": {
        "id": "McJ_-U4U8aVK"
      }
    },
    {
      "cell_type": "code",
      "source": [
        "logits = model.forward(X)\n",
        "print(logits[0].data)"
      ],
      "metadata": {
        "colab": {
          "base_uri": "https://localhost:8080/"
        },
        "id": "R4j7Ut3Y8QyB",
        "outputId": "8e6815a0-d55a-4894-d129-e30e925fa742"
      },
      "execution_count": 18,
      "outputs": [
        {
          "output_type": "stream",
          "name": "stdout",
          "text": [
            "tensor([0.4597, 0.5110, 0.5411, 0.5100, 0.4479, 0.3829, 0.5486, 0.4918, 0.5313,\n",
            "        0.4481])\n"
          ]
        }
      ]
    },
    {
      "cell_type": "markdown",
      "source": [
        "Come avevo detto precedentemente il neurone che contiene il valore maggiore rappresenta la classe associata all'oggetto rappresentata.\n",
        "\n",
        "Vi ricordo che la prima immagine era uno scarpone con l'etichetta numero 9.\n",
        "\n",
        "Quindi ci aspetteremmo che l'ultimo neurone, poiché le etichette sono numerate da 0 a 9, sia quello con il valore numerico più alto.\n",
        "\n",
        "Purtroppo però, se andiamo ad esaminare il risultato precedente, questo non si verifica.\n",
        "\n",
        "La rete neurale non sembra quindi funzionare. Perché?\n",
        "\n",
        "Perché non è stata addestrata, cioè non abbiamo appreso i pesi, l'intensità con cui le varie connessioni tra i neuroni devono funzionare per poter riconoscere correttamente le immagini di ingresso.\n",
        "\n",
        "L'addestramento è quello che faremo nella fase successiva."
      ],
      "metadata": {
        "id": "wLD7ECex86mP"
      }
    },
    {
      "cell_type": "markdown",
      "metadata": {
        "id": "-AlYL_xrtoPV"
      },
      "source": [
        "Per maggiorni informazioni: [building neural networks in PyTorch](buildmodel_tutorial.html).\n",
        "\n",
        "\n"
      ]
    },
    {
      "cell_type": "markdown",
      "source": [
        "### Che cosa fa la funzione `forward`?\n",
        "\n",
        "Iniziamo esaminando i parametri della rete neurale."
      ],
      "metadata": {
        "id": "hWckBdb06jR0"
      }
    },
    {
      "cell_type": "code",
      "source": [
        "for name, p in model.named_parameters():\n",
        "  print(f\"Parametro: {name}; Forma: {p.shape}\")"
      ],
      "metadata": {
        "colab": {
          "base_uri": "https://localhost:8080/"
        },
        "id": "MteTQP8S6q2I",
        "outputId": "20641c52-a0d1-4693-c628-30f38f6be75a"
      },
      "execution_count": 19,
      "outputs": [
        {
          "output_type": "stream",
          "name": "stdout",
          "text": [
            "Parametro: linear_sigmoid.0.weight; Forma: torch.Size([10, 784])\n",
            "Parametro: linear_sigmoid.0.bias; Forma: torch.Size([10])\n"
          ]
        }
      ]
    },
    {
      "cell_type": "markdown",
      "source": [
        "Dalla lezione teorica abbiamo appreso che il percettrone è equivalente alla seguente operazione matematica tra matrici\n",
        "\n",
        "$o = \\sigma(\\bf{x} * \\bf{w} + \\bf{b})$\n",
        "\n",
        "dove\n",
        "\n",
        "*   $\\sigma$ è la funzione sigmoide\n",
        "*   $\\bf{x}$ è la matrice di input\n",
        "*   $\\bf{w}$ è la matrice dei pesi\n",
        "*   $\\bf{b}$ è la matrice dei *bias*\n",
        "\n",
        "Andiamo ora ad osservare il contenuto iniziale dei pesi e del bias"
      ],
      "metadata": {
        "id": "ATHULNcp0To8"
      }
    },
    {
      "cell_type": "code",
      "source": [
        "w = model.linear_sigmoid[0].weight\n",
        "b = model.linear_sigmoid[0].bias\n",
        "print(\"Pesi w =\", w.data)\n",
        "print(\"\")\n",
        "print(\"Bias b =\", b.data)"
      ],
      "metadata": {
        "colab": {
          "base_uri": "https://localhost:8080/"
        },
        "id": "6SRWrUQw9Yo-",
        "outputId": "df0e689b-444e-4b01-9995-f4c2d85875f9"
      },
      "execution_count": 20,
      "outputs": [
        {
          "output_type": "stream",
          "name": "stdout",
          "text": [
            "Pesi w = tensor([[-0.0084,  0.0328, -0.0078,  ...,  0.0135, -0.0188, -0.0354],\n",
            "        [ 0.0187,  0.0085, -0.0182,  ...,  0.0115, -0.0008,  0.0017],\n",
            "        [ 0.0045,  0.0133, -0.0108,  ...,  0.0059,  0.0100,  0.0273],\n",
            "        ...,\n",
            "        [-0.0344,  0.0127, -0.0325,  ..., -0.0011, -0.0230,  0.0257],\n",
            "        [ 0.0291,  0.0243, -0.0006,  ...,  0.0001,  0.0176, -0.0147],\n",
            "        [ 0.0053, -0.0194, -0.0170,  ...,  0.0205, -0.0093,  0.0283]])\n",
            "\n",
            "Bias b = tensor([-0.0033,  0.0255,  0.0017,  0.0037, -0.0302, -0.0123,  0.0018,  0.0163,\n",
            "         0.0069, -0.0078])\n"
          ]
        }
      ]
    },
    {
      "cell_type": "markdown",
      "source": [
        "Se vogliamo invece vedere forma e dimensioni di queste due matrici possiamo usare il metodo `shape`"
      ],
      "metadata": {
        "id": "2fX3b9ND2ieL"
      }
    },
    {
      "cell_type": "code",
      "source": [
        "print(\"Forma della matrice w dei pesi:\", w.shape)\n",
        "print(\"\")\n",
        "print(\"Forma della matrice b con i bias:\", b.shape)"
      ],
      "metadata": {
        "colab": {
          "base_uri": "https://localhost:8080/"
        },
        "id": "ylrXuLZh2qdd",
        "outputId": "0a03efe6-2b7e-4d0e-943c-c07c4a61d8ca"
      },
      "execution_count": 21,
      "outputs": [
        {
          "output_type": "stream",
          "name": "stdout",
          "text": [
            "Forma della matrice w dei pesi: torch.Size([10, 784])\n",
            "\n",
            "Forma della matrice b con i bias: torch.Size([10])\n"
          ]
        }
      ]
    },
    {
      "cell_type": "markdown",
      "source": [
        "### Il calcolo effettuato dalla funzione `forward`\n",
        "\n",
        "Per il nostro caso la funzione `forward` sta usando la formula del percettrone per ogni $i$-mo neurone di uscita\n",
        "\n",
        "$l_i = \\sum_{j=1}^{784}{\\left(x_{j} * w_{ij}\\right)} + b_i$\n",
        "\n",
        "$o_i = f\\left( l_i \\right)$\n",
        "\n",
        "dove\n",
        "* $x_j$ con $j$ che varia da 1 a 784 sono i 784 pixel di ogni immagine di ingresso\n",
        "* $w_{ij}$ sono i pesi che collegano ciascuno dei 784 neuroni di ingresso a ciascuno dei 10 neuroni di uscita\n",
        "* $b_i$ sono altri parametri chiamati *bias*, uno per ognuno dei 10 neuroni di uscita\n",
        "* $o_i$ è il valore dell'$i$-simo\n",
        "* $f$ è la funzione sigmoide\n",
        "\n",
        "Verifichiamolo con il codice seguente"
      ],
      "metadata": {
        "id": "qDgGls948f7F"
      }
    },
    {
      "cell_type": "markdown",
      "source": [
        "Prima di tutto trasformiamo le immagini dal loro formato bi-dimensionale ad un formato monodimensionale (questa fase si chiama flattening)."
      ],
      "metadata": {
        "id": "6knhkAm-Cvpz"
      }
    },
    {
      "cell_type": "code",
      "source": [
        "flattened_input = X.view(len(X),-1)\n",
        "flattened_input.shape"
      ],
      "metadata": {
        "colab": {
          "base_uri": "https://localhost:8080/"
        },
        "id": "BBkvmHTgC5SM",
        "outputId": "ac36b918-0049-4c37-cb37-d66bdcb7b2d7"
      },
      "execution_count": 22,
      "outputs": [
        {
          "output_type": "execute_result",
          "data": {
            "text/plain": [
              "torch.Size([64, 784])"
            ]
          },
          "metadata": {},
          "execution_count": 22
        }
      ]
    },
    {
      "cell_type": "markdown",
      "source": [
        "Ora eseguiamo, sfruttando le proprietà di calcolo delle matrici, la fase di calcolo lineare, cioè questa formula\n",
        "\n",
        "$\\sum_{j=1}^{784}{(x_{j} * w_{ij})} + b_i$"
      ],
      "metadata": {
        "id": "chlgrbHnDAKv"
      }
    },
    {
      "cell_type": "code",
      "source": [
        "l = flattened_input @ w.T + b\n",
        "l.shape"
      ],
      "metadata": {
        "colab": {
          "base_uri": "https://localhost:8080/"
        },
        "id": "QSxZK_GsDWez",
        "outputId": "587afe24-51a5-4526-da4f-252be1f84ce9"
      },
      "execution_count": 23,
      "outputs": [
        {
          "output_type": "execute_result",
          "data": {
            "text/plain": [
              "torch.Size([64, 10])"
            ]
          },
          "metadata": {},
          "execution_count": 23
        }
      ]
    },
    {
      "cell_type": "code",
      "source": [
        "output = F.sigmoid(l)"
      ],
      "metadata": {
        "id": "yhxtjmF18ed7"
      },
      "execution_count": 24,
      "outputs": []
    },
    {
      "cell_type": "markdown",
      "source": [
        "Verifichiamo che i risultati ottenuti con il calcolo esplicito e con la funzione `forward` coincidano"
      ],
      "metadata": {
        "id": "nBtbWux5FSNK"
      }
    },
    {
      "cell_type": "code",
      "source": [
        "print(f\"output[0] = {output[0].data}\\nlogits[0] = {logits[0].data}\")"
      ],
      "metadata": {
        "colab": {
          "base_uri": "https://localhost:8080/"
        },
        "id": "5bgX9oJcFYjk",
        "outputId": "ff5952f1-37c1-4a4b-ab45-8e3648e89ec2"
      },
      "execution_count": 25,
      "outputs": [
        {
          "output_type": "stream",
          "name": "stdout",
          "text": [
            "output[0] = tensor([0.4597, 0.5110, 0.5411, 0.5100, 0.4479, 0.3829, 0.5486, 0.4918, 0.5313,\n",
            "        0.4481])\n",
            "logits[0] = tensor([0.4597, 0.5110, 0.5411, 0.5100, 0.4479, 0.3829, 0.5486, 0.4918, 0.5313,\n",
            "        0.4481])\n"
          ]
        }
      ]
    },
    {
      "cell_type": "markdown",
      "source": [
        "La funzione `forward` quindi **esegue** il grafo computazionale creato quando abbiamo creato la rete neurale."
      ],
      "metadata": {
        "id": "wUFf9MPE3v1Q"
      }
    },
    {
      "cell_type": "markdown",
      "source": [
        "### Distribuzione iniziale dei pesi"
      ],
      "metadata": {
        "id": "BQn-PkkXF-yQ"
      }
    },
    {
      "cell_type": "code",
      "source": [
        "plt.hist(w.detach().numpy().reshape(-1))"
      ],
      "metadata": {
        "colab": {
          "base_uri": "https://localhost:8080/",
          "height": 519
        },
        "id": "HSnTXd--GCh4",
        "outputId": "0141dc07-80fb-4847-d7b1-3a82bc3dea67"
      },
      "execution_count": 26,
      "outputs": [
        {
          "output_type": "execute_result",
          "data": {
            "text/plain": [
              "(array([777., 770., 810., 827., 754., 776., 811., 721., 804., 790.]),\n",
              " array([-3.57103832e-02, -2.85693128e-02, -2.14282423e-02, -1.42871728e-02,\n",
              "        -7.14610284e-03, -5.03286719e-06,  7.13603711e-03,  1.42771071e-02,\n",
              "         2.14181766e-02,  2.85592470e-02,  3.57003175e-02]),\n",
              " <BarContainer object of 10 artists>)"
            ]
          },
          "metadata": {},
          "execution_count": 26
        },
        {
          "output_type": "display_data",
          "data": {
            "text/plain": [
              "<Figure size 640x480 with 1 Axes>"
            ],
            "image/png": "[encoded data removed]"
          },
          "metadata": {}
        }
      ]
    },
    {
      "cell_type": "markdown",
      "metadata": {
        "id": "5hHHEdeAtoPV"
      },
      "source": [
        "--------------\n",
        "\n",
        "\n"
      ]
    },
    {
      "cell_type": "markdown",
      "metadata": {
        "id": "7Az8CMEMtoPV"
      },
      "source": [
        "## Addestramento della rete neurale\n",
        "\n",
        "Per addestrare un modello, abbiamo bisogno di una [funzione di costo](https://pytorch.org/docs/stable/nn.html#loss-functions) (chiamata *loss*) e di un [algoritmo di ottimizzazione](https://pytorch.org/docs/stable/optim.html) (chiamato *optimizer*).\n",
        "\n",
        "La funzione di costo misura quanto è lontana la predizione del modello dalla risposta attesa.\n",
        "\n",
        "L'ottimizzatore è un metodo con cui vengono calcolati le quantità con cui i pesi delle connessioni devono essere modificati per diminuire l'errore tra la predizione e la risposta attesa.\n",
        "\n",
        "Nel caso precedente avremmo dovuto modificare i pesi delle connessioni, che inizialmente hanno dei valori casuali, per aumentare il valore presente nel decimo neurone di uscita e diminuire invece tutti gli altri.\n",
        "\n",
        "In PyTorch esistono diverse funzioni di costo e diversi metodi di ottimizzazione.\n",
        "\n",
        "Per il nostro caso useremo quelli più comuni.\n",
        "\n",
        "Poiché dobbiamo classificare delle immagini la funzione di costo più comune si chiama [`CrossEntropyLoss`](https://pytorch.org/docs/stable/generated/torch.nn.CrossEntropyLoss.html) mentre l'algoritmo di ottimizzazione più semplice si chiama *Stochastic Gradient Descent* [`SGD`](https://pytorch.org/docs/stable/generated/torch.optim.SGD.html).\n"
      ]
    },
    {
      "cell_type": "code",
      "execution_count": 27,
      "metadata": {
        "id": "rJlHI6gjtoPV"
      },
      "outputs": [],
      "source": [
        "loss_fn = nn.CrossEntropyLoss()\n",
        "optimizer = torch.optim.SGD(model.parameters(), lr=1e-3)"
      ]
    },
    {
      "cell_type": "markdown",
      "source": [
        "I parametri del percettrone, cioè i pesi e i bias, sono modificabili dall'ottimizzatore. Questo lo si vede stampando la loro espressione. Entrambi sono degli oggetti di tipo `torch.tensor`, cioè delle matrici in PyTorch, con la proprietà `requires_grad` vera."
      ],
      "metadata": {
        "id": "fKvsJUzB4MML"
      }
    },
    {
      "cell_type": "code",
      "source": [
        "print(w)\n",
        "print(b)"
      ],
      "metadata": {
        "colab": {
          "base_uri": "https://localhost:8080/"
        },
        "id": "LWrkuzFN4axf",
        "outputId": "57ab8d0d-555c-46ee-e7a8-62d07c836919"
      },
      "execution_count": 28,
      "outputs": [
        {
          "output_type": "stream",
          "name": "stdout",
          "text": [
            "Parameter containing:\n",
            "tensor([[-0.0084,  0.0328, -0.0078,  ...,  0.0135, -0.0188, -0.0354],\n",
            "        [ 0.0187,  0.0085, -0.0182,  ...,  0.0115, -0.0008,  0.0017],\n",
            "        [ 0.0045,  0.0133, -0.0108,  ...,  0.0059,  0.0100,  0.0273],\n",
            "        ...,\n",
            "        [-0.0344,  0.0127, -0.0325,  ..., -0.0011, -0.0230,  0.0257],\n",
            "        [ 0.0291,  0.0243, -0.0006,  ...,  0.0001,  0.0176, -0.0147],\n",
            "        [ 0.0053, -0.0194, -0.0170,  ...,  0.0205, -0.0093,  0.0283]],\n",
            "       requires_grad=True)\n",
            "Parameter containing:\n",
            "tensor([-0.0033,  0.0255,  0.0017,  0.0037, -0.0302, -0.0123,  0.0018,  0.0163,\n",
            "         0.0069, -0.0078], requires_grad=True)\n"
          ]
        }
      ]
    },
    {
      "cell_type": "markdown",
      "metadata": {
        "id": "YXHzc3_YtoPV"
      },
      "source": [
        "Il fatto che `requires_grad` sia vera permette al differenzioatore automatico di PyTorch `torch.autograd` di calcolare il gradiente.\n",
        "\n",
        "Questo è usato dall'ottimizzatore per aggiustare i parametri come abbiamo visto nella presentazione teorica.\n",
        "\n",
        "Scriviamo ora la funzione `train` che permette di eseguire l'addestramento.\n",
        "\n"
      ]
    },
    {
      "cell_type": "code",
      "execution_count": 29,
      "metadata": {
        "id": "qpBcb7eltoPV"
      },
      "outputs": [],
      "source": [
        "def train(dataloader, model, loss_fn, optimizer):\n",
        "    size = len(dataloader.dataset)\n",
        "    model.train()\n",
        "    for batch, (X, y) in enumerate(dataloader):\n",
        "        X, y = X.to(device), y.to(device)\n",
        "\n",
        "        # Compute prediction error\n",
        "        pred = model(X)\n",
        "        loss = loss_fn(pred, y)\n",
        "\n",
        "        # Backpropagation\n",
        "        loss.backward()\n",
        "        optimizer.step()\n",
        "        optimizer.zero_grad()\n",
        "\n",
        "        if batch % 100 == 0:\n",
        "            loss, current = loss.item(), (batch + 1) * len(X)\n",
        "            print(f\"loss: {loss:>7f}  [{current:>5d}/{size:>5d}]\")"
      ]
    },
    {
      "cell_type": "markdown",
      "source": [
        "In un singolo ciclo di addestramento, il modello effettua previsioni sull'insieme di dati di addestramento (fornito ad esso a lotti, *batch*), e retropropaga l'errore di previsione per aggiustare i parametri del modello."
      ],
      "metadata": {
        "id": "f46BWFFDhNax"
      }
    },
    {
      "cell_type": "markdown",
      "metadata": {
        "id": "MPJ3jVMstoPV"
      },
      "source": [
        "Controlliamo anche con la funzione `test` le prestazioni del modello rispetto all'insieme di dati di test per garantire che stia imparando.\n"
      ]
    },
    {
      "cell_type": "code",
      "execution_count": 30,
      "metadata": {
        "id": "UguqqLyitoPV"
      },
      "outputs": [],
      "source": [
        "def test(dataloader, model, loss_fn):\n",
        "    size = len(dataloader.dataset)\n",
        "    num_batches = len(dataloader)\n",
        "    model.eval()\n",
        "    test_loss, correct = 0, 0\n",
        "    with torch.no_grad():\n",
        "        for X, y in dataloader:\n",
        "            X, y = X.to(device), y.to(device)\n",
        "            pred = model(X)\n",
        "            test_loss += loss_fn(pred, y).item()\n",
        "            correct += (pred.argmax(1) == y).type(torch.float).sum().item()\n",
        "    test_loss /= num_batches\n",
        "    correct /= size\n",
        "    print(f\"Test Error: \\n Accuracy: {(100*correct):>0.1f}%, Avg loss: {test_loss:>8f} \\n\")"
      ]
    },
    {
      "cell_type": "markdown",
      "metadata": {
        "id": "JHx8GpH6toPV"
      },
      "source": [
        "Il processo di addestramento viene condotto su diverse iterazioni (*epoche*).\n",
        "\n",
        "Durante ciascuna epoca, il modello impara i parametri per effettuare previsioni migliori.\n",
        "\n",
        "Se stampiamo l'accuratezza e la `loss` del modello ad ogni epoca; ci aspettiamo che l'accuratezza aumenti e la `loss` diminuisca ad ogni epoca.\n"
      ]
    },
    {
      "cell_type": "code",
      "execution_count": 31,
      "metadata": {
        "id": "diujiewFtoPV",
        "colab": {
          "base_uri": "https://localhost:8080/"
        },
        "outputId": "4cf551f8-febf-473c-dc38-217855bb145c"
      },
      "outputs": [
        {
          "output_type": "stream",
          "name": "stdout",
          "text": [
            "Epoch 1\n",
            "-------------------------------\n",
            "loss: 2.307968  [   64/60000]\n",
            "loss: 2.285416  [ 6464/60000]\n",
            "loss: 2.268667  [12864/60000]\n",
            "loss: 2.256857  [19264/60000]\n",
            "loss: 2.258343  [25664/60000]\n",
            "loss: 2.223238  [32064/60000]\n",
            "loss: 2.232352  [38464/60000]\n",
            "loss: 2.203572  [44864/60000]\n",
            "loss: 2.215438  [51264/60000]\n",
            "loss: 2.183154  [57664/60000]\n",
            "Test Error: \n",
            " Accuracy: 45.7%, Avg loss: 2.183544 \n",
            "\n",
            "Epoch 2\n",
            "-------------------------------\n",
            "loss: 2.198106  [   64/60000]\n",
            "loss: 2.186970  [ 6464/60000]\n",
            "loss: 2.158640  [12864/60000]\n",
            "loss: 2.168064  [19264/60000]\n",
            "loss: 2.158625  [25664/60000]\n",
            "loss: 2.123485  [32064/60000]\n",
            "loss: 2.148849  [38464/60000]\n",
            "loss: 2.116542  [44864/60000]\n",
            "loss: 2.137063  [51264/60000]\n",
            "loss: 2.100657  [57664/60000]\n",
            "Test Error: \n",
            " Accuracy: 58.2%, Avg loss: 2.109524 \n",
            "\n",
            "Epoch 3\n",
            "-------------------------------\n",
            "loss: 2.127517  [   64/60000]\n",
            "loss: 2.122392  [ 6464/60000]\n",
            "loss: 2.087182  [12864/60000]\n",
            "loss: 2.106238  [19264/60000]\n",
            "loss: 2.091198  [25664/60000]\n",
            "loss: 2.062105  [32064/60000]\n",
            "loss: 2.090331  [38464/60000]\n",
            "loss: 2.059687  [44864/60000]\n",
            "loss: 2.080179  [51264/60000]\n",
            "loss: 2.043145  [57664/60000]\n",
            "Test Error: \n",
            " Accuracy: 61.7%, Avg loss: 2.057031 \n",
            "\n",
            "Epoch 4\n",
            "-------------------------------\n",
            "loss: 2.076162  [   64/60000]\n",
            "loss: 2.075512  [ 6464/60000]\n",
            "loss: 2.034858  [12864/60000]\n",
            "loss: 2.060827  [19264/60000]\n",
            "loss: 2.040549  [25664/60000]\n",
            "loss: 2.018350  [32064/60000]\n",
            "loss: 2.047489  [38464/60000]\n",
            "loss: 2.018939  [44864/60000]\n",
            "loss: 2.037154  [51264/60000]\n",
            "loss: 2.001594  [57664/60000]\n",
            "Test Error: \n",
            " Accuracy: 63.3%, Avg loss: 2.017752 \n",
            "\n",
            "Epoch 5\n",
            "-------------------------------\n",
            "loss: 2.037011  [   64/60000]\n",
            "loss: 2.039862  [ 6464/60000]\n",
            "loss: 1.994827  [12864/60000]\n",
            "loss: 2.026459  [19264/60000]\n",
            "loss: 2.001187  [25664/60000]\n",
            "loss: 1.985232  [32064/60000]\n",
            "loss: 2.014951  [38464/60000]\n",
            "loss: 1.988186  [44864/60000]\n",
            "loss: 2.003601  [51264/60000]\n",
            "loss: 1.970301  [57664/60000]\n",
            "Test Error: \n",
            " Accuracy: 64.2%, Avg loss: 1.987269 \n",
            "\n",
            "Done!\n"
          ]
        }
      ],
      "source": [
        "epochs = 5\n",
        "for t in range(epochs):\n",
        "    print(f\"Epoch {t+1}\\n-------------------------------\")\n",
        "    train(train_dataloader, model, loss_fn, optimizer)\n",
        "    test(test_dataloader, model, loss_fn)\n",
        "print(\"Done!\")"
      ]
    },
    {
      "cell_type": "markdown",
      "source": [
        "### Distribuzione dei pesi dopo l'addestramento\n",
        "\n",
        "Se ora andiamo a vedere l'istogramma dei pesi dopo l'addestramento vediamo che sono stati modificati rispetto alla distribuzione casuale e uniforme iniziale."
      ],
      "metadata": {
        "id": "oN8S7gWTG4Qy"
      }
    },
    {
      "cell_type": "code",
      "source": [
        "w = model.linear_sigmoid[0].weight.data\n",
        "plt.hist(w.detach().numpy().reshape(-1))"
      ],
      "metadata": {
        "colab": {
          "base_uri": "https://localhost:8080/",
          "height": 537
        },
        "id": "_ylH2gKtG8Nl",
        "outputId": "090808af-5451-452d-a227-e549134c5f8b"
      },
      "execution_count": 32,
      "outputs": [
        {
          "output_type": "execute_result",
          "data": {
            "text/plain": [
              "(array([  36.,  245.,  797., 1344., 1498., 1511., 1271.,  837.,  259.,\n",
              "          42.]),\n",
              " array([-0.07122365, -0.05733281, -0.04344197, -0.02955113, -0.0156603 ,\n",
              "        -0.00176946,  0.01212138,  0.02601222,  0.03990306,  0.0537939 ,\n",
              "         0.06768473]),\n",
              " <BarContainer object of 10 artists>)"
            ]
          },
          "metadata": {},
          "execution_count": 32
        },
        {
          "output_type": "display_data",
          "data": {
            "text/plain": [
              "<Figure size 640x480 with 1 Axes>"
            ],
            "image/png": "[encoded data removed]"
          },
          "metadata": {}
        }
      ]
    },
    {
      "cell_type": "markdown",
      "metadata": {
        "id": "3pd4Wbp7toPW"
      },
      "source": [
        "Per approfondimenti [Training your model](optimization_tutorial.html).\n",
        "\n",
        "\n"
      ]
    },
    {
      "cell_type": "markdown",
      "source": [
        "## Multi Layer Perceptron\n",
        "\n",
        "Ora che abbiamo visto le basi passiamo a vedere come si comporta una rete più grande, in particolare un *Multi Layer Perceptron* sullo stesso dataset."
      ],
      "metadata": {
        "id": "9XKrMVvHGxxk"
      }
    },
    {
      "cell_type": "code",
      "source": [
        "input_label = (\"Input Layer\", 768)\n",
        "hidden_labels = ([\"Hidden Layer 1\", \"Hidden Layer 2\"], [512, 256])\n",
        "output_label = (\"Output Layer\", 10)\n",
        "svg_data = create_mlp_svg(input_neurons=5, output_neurons=2,\n",
        "                          input_label=input_label, output_label=output_label,\n",
        "                          hidden_layers=[4,3], hidden_labels=hidden_labels)\n",
        "display(SVG(svg_data))"
      ],
      "metadata": {
        "colab": {
          "base_uri": "https://localhost:8080/",
          "height": 581
        },
        "outputId": "83ed9305-6eb6-416e-cdd5-3abd33afc328",
        "id": "kd7p16h_DSIH"
      },
      "execution_count": 33,
      "outputs": [
        {
          "output_type": "display_data",
          "data": {
            "text/plain": [
              "<IPython.core.display.SVG object>"
            ],
            "image/svg+xml": "<svg xmlns=\"http://www.w3.org/2000/svg\" xmlns:ev=\"http://www.w3.org/2001/xml-events\" xmlns:xlink=\"http://www.w3.org/1999/xlink\" baseProfile=\"full\" height=\"560\" version=\"1.1\" width=\"480\"><defs><marker id=\"id2\" markerHeight=\"5\" markerWidth=\"5\" orient=\"auto\" refX=\"5\" refY=\"5\"><path d=\"M 0 0 L 10 5 L 0 10 z\" fill=\"black\"/></marker></defs><circle cx=\"60\" cy=\"130.0\" fill=\"#89CFF0\" r=\"20\"/><circle cx=\"60\" cy=\"190.0\" fill=\"#89CFF0\" r=\"20\"/><circle cx=\"60\" cy=\"250.0\" fill=\"#89CFF0\" r=\"20\"/><circle cx=\"60\" cy=\"310.0\" fill=\"#89CFF0\" r=\"20\"/><circle cx=\"60\" cy=\"370.0\" fill=\"#89CFF0\" r=\"20\"/><text font-family=\"Arial\" font-size=\"16px\" text-anchor=\"middle\" x=\"60\" y=\"30.0\"><tspan dy=\"1.2em\" x=\"60\">Input Layer</tspan><tspan dy=\"1.2em\" x=\"60\">(768)</tspan></text><circle cx=\"180\" cy=\"160.0\" fill=\"#C3B1E1\" r=\"20\"/><circle cx=\"180\" cy=\"220.0\" fill=\"#C3B1E1\" r=\"20\"/><circle cx=\"180\" cy=\"280.0\" fill=\"#C3B1E1\" r=\"20\"/><circle cx=\"180\" cy=\"340.0\" fill=\"#C3B1E1\" r=\"20\"/><text font-family=\"Arial\" font-size=\"16px\" text-anchor=\"middle\" x=\"180\" y=\"30.0\"><tspan dy=\"1.2em\" x=\"180\">Hidden Layer 1</tspan><tspan dy=\"1.2em\" x=\"180\">(512)</tspan></text><circle cx=\"300\" cy=\"190.0\" fill=\"#FDE910\" r=\"20\"/><circle cx=\"300\" cy=\"250.0\" fill=\"#FDE910\" r=\"20\"/><circle cx=\"300\" cy=\"310.0\" fill=\"#FDE910\" r=\"20\"/><text font-family=\"Arial\" font-size=\"16px\" text-anchor=\"middle\" x=\"300\" y=\"30.0\"><tspan dy=\"1.2em\" x=\"300\">Hidden Layer 2</tspan><tspan dy=\"1.2em\" x=\"300\">(256)</tspan></text><circle cx=\"420\" cy=\"220.0\" fill=\"#FDE910\" r=\"20\"/><circle cx=\"420\" cy=\"280.0\" fill=\"#FDE910\" r=\"20\"/><text font-family=\"Arial\" font-size=\"16px\" text-anchor=\"middle\" x=\"420\" y=\"30.0\"><tspan dy=\"1.2em\" x=\"420\">Output Layer</tspan><tspan dy=\"1.2em\" x=\"420\">(10)</tspan></text><line marker-end=\"url(#id2)\" stroke=\"black\" stroke-width=\"1\" x1=\"80\" x2=\"160\" y1=\"130.0\" y2=\"160.0\"/><line marker-end=\"url(#id2)\" stroke=\"black\" stroke-width=\"1\" x1=\"80\" x2=\"160\" y1=\"130.0\" y2=\"220.0\"/><line marker-end=\"url(#id2)\" stroke=\"black\" stroke-width=\"1\" x1=\"80\" x2=\"160\" y1=\"130.0\" y2=\"280.0\"/><line marker-end=\"url(#id2)\" stroke=\"black\" stroke-width=\"1\" x1=\"80\" x2=\"160\" y1=\"130.0\" y2=\"340.0\"/><line marker-end=\"url(#id2)\" stroke=\"black\" stroke-width=\"1\" x1=\"80\" x2=\"160\" y1=\"190.0\" y2=\"160.0\"/><line marker-end=\"url(#id2)\" stroke=\"black\" stroke-width=\"1\" x1=\"80\" x2=\"160\" y1=\"190.0\" y2=\"220.0\"/><line marker-end=\"url(#id2)\" stroke=\"black\" stroke-width=\"1\" x1=\"80\" x2=\"160\" y1=\"190.0\" y2=\"280.0\"/><line marker-end=\"url(#id2)\" stroke=\"black\" stroke-width=\"1\" x1=\"80\" x2=\"160\" y1=\"190.0\" y2=\"340.0\"/><line marker-end=\"url(#id2)\" stroke=\"black\" stroke-width=\"1\" x1=\"80\" x2=\"160\" y1=\"250.0\" y2=\"160.0\"/><line marker-end=\"url(#id2)\" stroke=\"black\" stroke-width=\"1\" x1=\"80\" x2=\"160\" y1=\"250.0\" y2=\"220.0\"/><line marker-end=\"url(#id2)\" stroke=\"black\" stroke-width=\"1\" x1=\"80\" x2=\"160\" y1=\"250.0\" y2=\"280.0\"/><line marker-end=\"url(#id2)\" stroke=\"black\" stroke-width=\"1\" x1=\"80\" x2=\"160\" y1=\"250.0\" y2=\"340.0\"/><line marker-end=\"url(#id2)\" stroke=\"black\" stroke-width=\"1\" x1=\"80\" x2=\"160\" y1=\"310.0\" y2=\"160.0\"/><line marker-end=\"url(#id2)\" stroke=\"black\" stroke-width=\"1\" x1=\"80\" x2=\"160\" y1=\"310.0\" y2=\"220.0\"/><line marker-end=\"url(#id2)\" stroke=\"black\" stroke-width=\"1\" x1=\"80\" x2=\"160\" y1=\"310.0\" y2=\"280.0\"/><line marker-end=\"url(#id2)\" stroke=\"black\" stroke-width=\"1\" x1=\"80\" x2=\"160\" y1=\"310.0\" y2=\"340.0\"/><line marker-end=\"url(#id2)\" stroke=\"black\" stroke-width=\"1\" x1=\"80\" x2=\"160\" y1=\"370.0\" y2=\"160.0\"/><line marker-end=\"url(#id2)\" stroke=\"black\" stroke-width=\"1\" x1=\"80\" x2=\"160\" y1=\"370.0\" y2=\"220.0\"/><line marker-end=\"url(#id2)\" stroke=\"black\" stroke-width=\"1\" x1=\"80\" x2=\"160\" y1=\"370.0\" y2=\"280.0\"/><line marker-end=\"url(#id2)\" stroke=\"black\" stroke-width=\"1\" x1=\"80\" x2=\"160\" y1=\"370.0\" y2=\"340.0\"/><line marker-end=\"url(#id2)\" stroke=\"black\" stroke-width=\"1\" x1=\"200\" x2=\"280\" y1=\"160.0\" y2=\"190.0\"/><line marker-end=\"url(#id2)\" stroke=\"black\" stroke-width=\"1\" x1=\"200\" x2=\"280\" y1=\"160.0\" y2=\"250.0\"/><line marker-end=\"url(#id2)\" stroke=\"black\" stroke-width=\"1\" x1=\"200\" x2=\"280\" y1=\"160.0\" y2=\"310.0\"/><line marker-end=\"url(#id2)\" stroke=\"black\" stroke-width=\"1\" x1=\"200\" x2=\"280\" y1=\"220.0\" y2=\"190.0\"/><line marker-end=\"url(#id2)\" stroke=\"black\" stroke-width=\"1\" x1=\"200\" x2=\"280\" y1=\"220.0\" y2=\"250.0\"/><line marker-end=\"url(#id2)\" stroke=\"black\" stroke-width=\"1\" x1=\"200\" x2=\"280\" y1=\"220.0\" y2=\"310.0\"/><line marker-end=\"url(#id2)\" stroke=\"black\" stroke-width=\"1\" x1=\"200\" x2=\"280\" y1=\"280.0\" y2=\"190.0\"/><line marker-end=\"url(#id2)\" stroke=\"black\" stroke-width=\"1\" x1=\"200\" x2=\"280\" y1=\"280.0\" y2=\"250.0\"/><line marker-end=\"url(#id2)\" stroke=\"black\" stroke-width=\"1\" x1=\"200\" x2=\"280\" y1=\"280.0\" y2=\"310.0\"/><line marker-end=\"url(#id2)\" stroke=\"black\" stroke-width=\"1\" x1=\"200\" x2=\"280\" y1=\"340.0\" y2=\"190.0\"/><line marker-end=\"url(#id2)\" stroke=\"black\" stroke-width=\"1\" x1=\"200\" x2=\"280\" y1=\"340.0\" y2=\"250.0\"/><line marker-end=\"url(#id2)\" stroke=\"black\" stroke-width=\"1\" x1=\"200\" x2=\"280\" y1=\"340.0\" y2=\"310.0\"/><line marker-end=\"url(#id2)\" stroke=\"black\" stroke-width=\"1\" x1=\"320\" x2=\"400\" y1=\"190.0\" y2=\"220.0\"/><line marker-end=\"url(#id2)\" stroke=\"black\" stroke-width=\"1\" x1=\"320\" x2=\"400\" y1=\"190.0\" y2=\"280.0\"/><line marker-end=\"url(#id2)\" stroke=\"black\" stroke-width=\"1\" x1=\"320\" x2=\"400\" y1=\"250.0\" y2=\"220.0\"/><line marker-end=\"url(#id2)\" stroke=\"black\" stroke-width=\"1\" x1=\"320\" x2=\"400\" y1=\"250.0\" y2=\"280.0\"/><line marker-end=\"url(#id2)\" stroke=\"black\" stroke-width=\"1\" x1=\"320\" x2=\"400\" y1=\"310.0\" y2=\"220.0\"/><line marker-end=\"url(#id2)\" stroke=\"black\" stroke-width=\"1\" x1=\"320\" x2=\"400\" y1=\"310.0\" y2=\"280.0\"/></svg>"
          },
          "metadata": {}
        }
      ]
    },
    {
      "cell_type": "markdown",
      "source": [
        "Creiamo un nuovo modello ereditando sempre dalla classe `nn.Module`"
      ],
      "metadata": {
        "id": "HT3p9zEVh3C0"
      }
    },
    {
      "cell_type": "code",
      "source": [
        "# Define model\n",
        "class MLP(nn.Module):\n",
        "    def __init__(self):\n",
        "        super().__init__()\n",
        "        self.flatten = nn.Flatten()\n",
        "        self.linear_relu_stack = nn.Sequential(\n",
        "            nn.Linear(28*28, 512),\n",
        "            nn.ReLU(),\n",
        "            nn.Linear(512, 256),\n",
        "            nn.ReLU(),\n",
        "            nn.Linear(256, 10)\n",
        "        )\n",
        "\n",
        "    def forward(self, x):\n",
        "        x = self.flatten(x)\n",
        "        logits = self.linear_relu_stack(x)\n",
        "        return logits"
      ],
      "metadata": {
        "id": "g4K5DzIe7OoP"
      },
      "execution_count": 34,
      "outputs": []
    },
    {
      "cell_type": "code",
      "source": [
        "model = MLP().to(device)\n",
        "model"
      ],
      "metadata": {
        "colab": {
          "base_uri": "https://localhost:8080/"
        },
        "outputId": "62015abb-b918-4e6c-ed7d-b613398cd845",
        "id": "MzwPwQ8BDDnv"
      },
      "execution_count": 35,
      "outputs": [
        {
          "output_type": "execute_result",
          "data": {
            "text/plain": [
              "MLP(\n",
              "  (flatten): Flatten(start_dim=1, end_dim=-1)\n",
              "  (linear_relu_stack): Sequential(\n",
              "    (0): Linear(in_features=784, out_features=512, bias=True)\n",
              "    (1): ReLU()\n",
              "    (2): Linear(in_features=512, out_features=256, bias=True)\n",
              "    (3): ReLU()\n",
              "    (4): Linear(in_features=256, out_features=10, bias=True)\n",
              "  )\n",
              ")"
            ]
          },
          "metadata": {},
          "execution_count": 35
        }
      ]
    },
    {
      "cell_type": "code",
      "source": [
        "summary(model,(1,28,28))"
      ],
      "metadata": {
        "colab": {
          "base_uri": "https://localhost:8080/"
        },
        "id": "YgwYzrcZHah4",
        "outputId": "69b3082b-e2a7-423d-8ae9-92fda4669fd0"
      },
      "execution_count": 36,
      "outputs": [
        {
          "output_type": "stream",
          "name": "stdout",
          "text": [
            "----------------------------------------------------------------\n",
            "        Layer (type)               Output Shape         Param #\n",
            "================================================================\n",
            "           Flatten-1                  [-1, 784]               0\n",
            "            Linear-2                  [-1, 512]         401,920\n",
            "              ReLU-3                  [-1, 512]               0\n",
            "            Linear-4                  [-1, 256]         131,328\n",
            "              ReLU-5                  [-1, 256]               0\n",
            "            Linear-6                   [-1, 10]           2,570\n",
            "================================================================\n",
            "Total params: 535,818\n",
            "Trainable params: 535,818\n",
            "Non-trainable params: 0\n",
            "----------------------------------------------------------------\n",
            "Input size (MB): 0.00\n",
            "Forward/backward pass size (MB): 0.02\n",
            "Params size (MB): 2.04\n",
            "Estimated Total Size (MB): 2.06\n",
            "----------------------------------------------------------------\n"
          ]
        }
      ]
    },
    {
      "cell_type": "markdown",
      "source": [
        "## La funzione di uscita ReLU\n",
        "\n",
        "Come anticipato nel corso teorico vi sono diverse funzioni di attivazione oltre alla funzione sigmoide. Una delle più usate è la funzione **ReLU** mostrata nel grafico seguente."
      ],
      "metadata": {
        "id": "Vk81FCIfHy9k"
      }
    },
    {
      "cell_type": "code",
      "source": [
        "# Calculate relu outputs\n",
        "y = F.relu(x)\n",
        "\n",
        "# Plot the graph\n",
        "plt.plot(x.numpy(), y.numpy())\n",
        "\n",
        "# Add labels and title\n",
        "plt.xlabel(\"Input (x)\")\n",
        "plt.ylabel(\"Output (y)\")\n",
        "plt.title(\"ReLU Function Graph\")\n",
        "\n",
        "# Show the plot\n",
        "plt.show()"
      ],
      "metadata": {
        "colab": {
          "base_uri": "https://localhost:8080/",
          "height": 472
        },
        "id": "z4hGgA1HH2fg",
        "outputId": "95203a3d-9a12-4681-e3bf-3617da618728"
      },
      "execution_count": 37,
      "outputs": [
        {
          "output_type": "display_data",
          "data": {
            "text/plain": [
              "<Figure size 640x480 with 1 Axes>"
            ],
            "image/png": "[encoded data removed]"
          },
          "metadata": {}
        }
      ]
    },
    {
      "cell_type": "markdown",
      "source": [
        "### Addestramento del MLP"
      ],
      "metadata": {
        "id": "6nYYLIC9iWWH"
      }
    },
    {
      "cell_type": "code",
      "execution_count": 38,
      "metadata": {
        "colab": {
          "base_uri": "https://localhost:8080/"
        },
        "outputId": "49ea2d2c-444e-4143-f63d-b22c33eeb747",
        "id": "jh0RxRvPE6Zx"
      },
      "outputs": [
        {
          "output_type": "stream",
          "name": "stdout",
          "text": [
            "Epoch 1\n",
            "-------------------------------\n",
            "loss: 2.283899  [   64/60000]\n",
            "loss: 2.277833  [ 6464/60000]\n",
            "loss: 2.261746  [12864/60000]\n",
            "loss: 2.259645  [19264/60000]\n",
            "loss: 2.251892  [25664/60000]\n",
            "loss: 2.218285  [32064/60000]\n",
            "loss: 2.224862  [38464/60000]\n",
            "loss: 2.193623  [44864/60000]\n",
            "loss: 2.191847  [51264/60000]\n",
            "loss: 2.151511  [57664/60000]\n",
            "Test Error: \n",
            " Accuracy: 52.0%, Avg loss: 2.150421 \n",
            "\n",
            "Epoch 2\n",
            "-------------------------------\n",
            "loss: 2.159444  [   64/60000]\n",
            "loss: 2.143008  [ 6464/60000]\n",
            "loss: 2.093543  [12864/60000]\n",
            "loss: 2.100898  [19264/60000]\n",
            "loss: 2.063800  [25664/60000]\n",
            "loss: 2.005857  [32064/60000]\n",
            "loss: 2.024153  [38464/60000]\n",
            "loss: 1.956790  [44864/60000]\n",
            "loss: 1.964518  [51264/60000]\n",
            "loss: 1.868540  [57664/60000]\n",
            "Test Error: \n",
            " Accuracy: 56.7%, Avg loss: 1.884529 \n",
            "\n",
            "Epoch 3\n",
            "-------------------------------\n",
            "loss: 1.922421  [   64/60000]\n",
            "loss: 1.883211  [ 6464/60000]\n",
            "loss: 1.781978  [12864/60000]\n",
            "loss: 1.804715  [19264/60000]\n",
            "loss: 1.720820  [25664/60000]\n",
            "loss: 1.670771  [32064/60000]\n",
            "loss: 1.685249  [38464/60000]\n",
            "loss: 1.604702  [44864/60000]\n",
            "loss: 1.631848  [51264/60000]\n",
            "loss: 1.501066  [57664/60000]\n",
            "Test Error: \n",
            " Accuracy: 62.6%, Avg loss: 1.537172 \n",
            "\n",
            "Epoch 4\n",
            "-------------------------------\n",
            "loss: 1.613579  [   64/60000]\n",
            "loss: 1.565918  [ 6464/60000]\n",
            "loss: 1.434407  [12864/60000]\n",
            "loss: 1.481053  [19264/60000]\n",
            "loss: 1.385865  [25664/60000]\n",
            "loss: 1.380764  [32064/60000]\n",
            "loss: 1.390373  [38464/60000]\n",
            "loss: 1.330118  [44864/60000]\n",
            "loss: 1.363458  [51264/60000]\n",
            "loss: 1.244161  [57664/60000]\n",
            "Test Error: \n",
            " Accuracy: 63.7%, Avg loss: 1.278689 \n",
            "\n",
            "Epoch 5\n",
            "-------------------------------\n",
            "loss: 1.366392  [   64/60000]\n",
            "loss: 1.334816  [ 6464/60000]\n",
            "loss: 1.184095  [12864/60000]\n",
            "loss: 1.265033  [19264/60000]\n",
            "loss: 1.152378  [25664/60000]\n",
            "loss: 1.181572  [32064/60000]\n",
            "loss: 1.200623  [38464/60000]\n",
            "loss: 1.150916  [44864/60000]\n",
            "loss: 1.186004  [51264/60000]\n",
            "loss: 1.086578  [57664/60000]\n",
            "Test Error: \n",
            " Accuracy: 64.7%, Avg loss: 1.111416 \n",
            "\n",
            "Done!\n"
          ]
        }
      ],
      "source": [
        "optimizer = torch.optim.SGD(model.parameters(), lr=1e-3)\n",
        "\n",
        "epochs = 5\n",
        "for t in range(epochs):\n",
        "    print(f\"Epoch {t+1}\\n-------------------------------\")\n",
        "    train(train_dataloader, model, loss_fn, optimizer)\n",
        "    test(test_dataloader, model, loss_fn)\n",
        "print(\"Done!\")"
      ]
    },
    {
      "cell_type": "markdown",
      "source": [
        "Per migliorare le prestazioni utilizziamo dei pesi iniziali più sofisticati.\n",
        "\n",
        "Il metodo è descritto in *Understanding the difficulty of training deep feedforward neural networks* - Glorot, X. & Bengio, Y. (2010).\n",
        "Il valore dei parametri iniziali deriva da una distribuzione uniforme che varia nell'intervallo $[-a, a]$ dove\n",
        "\n",
        "$a = \\sqrt{\\frac{6}{\\text{fan}_{\\text{in}} + \\text{fan}_{\\text{out}}}}$\n",
        "\n",
        "dove\n",
        "\n",
        "* $\\text{fan}_{\\text{in}}$ è il numero di *input* di ciascun strato\n",
        "* $\\text{fan}_{\\text{out}}$ è il numero di *output* di ciascun strato\n",
        "\n",
        "Questa inizializzazione è chiamata inizializzazione di Glorot (vd. [`torch.nn.init`](https://pytorch.org/docs/stable/nn.init.html))"
      ],
      "metadata": {
        "id": "PGoEep7cJ0uG"
      }
    },
    {
      "cell_type": "code",
      "source": [
        "def init_xavier(module):\n",
        "    if type(module) == nn.Linear:\n",
        "        nn.init.xavier_uniform_(module.weight)\n",
        "\n",
        "model.apply(init_xavier)"
      ],
      "metadata": {
        "colab": {
          "base_uri": "https://localhost:8080/"
        },
        "id": "PEpvXBOEJSOo",
        "outputId": "f67f72d3-83c6-4785-e3b4-a70e3131db0d"
      },
      "execution_count": 39,
      "outputs": [
        {
          "output_type": "execute_result",
          "data": {
            "text/plain": [
              "MLP(\n",
              "  (flatten): Flatten(start_dim=1, end_dim=-1)\n",
              "  (linear_relu_stack): Sequential(\n",
              "    (0): Linear(in_features=784, out_features=512, bias=True)\n",
              "    (1): ReLU()\n",
              "    (2): Linear(in_features=512, out_features=256, bias=True)\n",
              "    (3): ReLU()\n",
              "    (4): Linear(in_features=256, out_features=10, bias=True)\n",
              "  )\n",
              ")"
            ]
          },
          "metadata": {},
          "execution_count": 39
        }
      ]
    },
    {
      "cell_type": "markdown",
      "source": [
        "Proviamo quindi un ulteriore addestramento con i nuovi pesi iniziali."
      ],
      "metadata": {
        "id": "0C2wMi7zj5H1"
      }
    },
    {
      "cell_type": "code",
      "source": [
        "optimizer = torch.optim.SGD(model.parameters(), lr=1e-3)\n",
        "\n",
        "epochs = 5\n",
        "for t in range(epochs):\n",
        "    print(f\"Epoch {t+1}\\n-------------------------------\")\n",
        "    train(train_dataloader, model, loss_fn, optimizer)\n",
        "    test(test_dataloader, model, loss_fn)\n",
        "print(\"Done!\")"
      ],
      "metadata": {
        "colab": {
          "base_uri": "https://localhost:8080/"
        },
        "id": "JW939RaMJY8J",
        "outputId": "fe894fdc-3a1e-479d-860c-66f042501883"
      },
      "execution_count": 40,
      "outputs": [
        {
          "output_type": "stream",
          "name": "stdout",
          "text": [
            "Epoch 1\n",
            "-------------------------------\n",
            "loss: 2.334577  [   64/60000]\n",
            "loss: 2.099270  [ 6464/60000]\n",
            "loss: 1.854159  [12864/60000]\n",
            "loss: 1.819810  [19264/60000]\n",
            "loss: 1.657522  [25664/60000]\n",
            "loss: 1.509728  [32064/60000]\n",
            "loss: 1.484416  [38464/60000]\n",
            "loss: 1.323790  [44864/60000]\n",
            "loss: 1.351630  [51264/60000]\n",
            "loss: 1.211875  [57664/60000]\n",
            "Test Error: \n",
            " Accuracy: 67.2%, Avg loss: 1.202018 \n",
            "\n",
            "Epoch 2\n",
            "-------------------------------\n",
            "loss: 1.246797  [   64/60000]\n",
            "loss: 1.240490  [ 6464/60000]\n",
            "loss: 0.993579  [12864/60000]\n",
            "loss: 1.159785  [19264/60000]\n",
            "loss: 1.025352  [25664/60000]\n",
            "loss: 1.002110  [32064/60000]\n",
            "loss: 1.041396  [38464/60000]\n",
            "loss: 0.942205  [44864/60000]\n",
            "loss: 0.996884  [51264/60000]\n",
            "loss: 0.919795  [57664/60000]\n",
            "Test Error: \n",
            " Accuracy: 71.8%, Avg loss: 0.910210 \n",
            "\n",
            "Epoch 3\n",
            "-------------------------------\n",
            "loss: 0.915646  [   64/60000]\n",
            "loss: 0.993234  [ 6464/60000]\n",
            "loss: 0.732886  [12864/60000]\n",
            "loss: 0.962008  [19264/60000]\n",
            "loss: 0.839752  [25664/60000]\n",
            "loss: 0.837541  [32064/60000]\n",
            "loss: 0.890483  [38464/60000]\n",
            "loss: 0.811695  [44864/60000]\n",
            "loss: 0.865107  [51264/60000]\n",
            "loss: 0.804564  [57664/60000]\n",
            "Test Error: \n",
            " Accuracy: 74.8%, Avg loss: 0.792910 \n",
            "\n",
            "Epoch 4\n",
            "-------------------------------\n",
            "loss: 0.775536  [   64/60000]\n",
            "loss: 0.881979  [ 6464/60000]\n",
            "loss: 0.619087  [12864/60000]\n",
            "loss: 0.870187  [19264/60000]\n",
            "loss: 0.756318  [25664/60000]\n",
            "loss: 0.756756  [32064/60000]\n",
            "loss: 0.813071  [38464/60000]\n",
            "loss: 0.747601  [44864/60000]\n",
            "loss: 0.799580  [51264/60000]\n",
            "loss: 0.738198  [57664/60000]\n",
            "Test Error: \n",
            " Accuracy: 76.5%, Avg loss: 0.727094 \n",
            "\n",
            "Epoch 5\n",
            "-------------------------------\n",
            "loss: 0.695330  [   64/60000]\n",
            "loss: 0.811513  [ 6464/60000]\n",
            "loss: 0.554113  [12864/60000]\n",
            "loss: 0.814789  [19264/60000]\n",
            "loss: 0.706280  [25664/60000]\n",
            "loss: 0.705845  [32064/60000]\n",
            "loss: 0.759719  [38464/60000]\n",
            "loss: 0.710192  [44864/60000]\n",
            "loss: 0.759456  [51264/60000]\n",
            "loss: 0.689236  [57664/60000]\n",
            "Test Error: \n",
            " Accuracy: 77.4%, Avg loss: 0.682482 \n",
            "\n",
            "Done!\n"
          ]
        }
      ]
    },
    {
      "cell_type": "markdown",
      "metadata": {
        "id": "ArDsJzsytoPW"
      },
      "source": [
        "## Salvataggio dei Modelli\n",
        "Un modo comune per salvare un modello è serializzare il dizionario di stato interno (contenente i parametri del modello).\n",
        "\n"
      ]
    },
    {
      "cell_type": "code",
      "execution_count": 41,
      "metadata": {
        "id": "ovWzvDMHtoPW",
        "colab": {
          "base_uri": "https://localhost:8080/"
        },
        "outputId": "6308bc28-0ab8-4e1f-f80e-4c67f644753f"
      },
      "outputs": [
        {
          "output_type": "stream",
          "name": "stdout",
          "text": [
            "Saved PyTorch Model State to model.pth\n"
          ]
        }
      ],
      "source": [
        "torch.save(model.state_dict(), \"model.pth\")\n",
        "print(\"Saved PyTorch Model State to model.pth\")"
      ]
    },
    {
      "cell_type": "markdown",
      "metadata": {
        "id": "7NGFpokztoPW"
      },
      "source": [
        "## Caricamento dei Modelli\n",
        "\n",
        "Il processo per caricare un modello include la ricreazione della struttura del modello e il caricamento del dizionario di stato al suo interno.\n",
        "\n"
      ]
    },
    {
      "cell_type": "code",
      "execution_count": 42,
      "metadata": {
        "id": "mCtox0ymtoPW",
        "colab": {
          "base_uri": "https://localhost:8080/"
        },
        "outputId": "c288b194-5784-4bc8-d4ed-40bf8bd1aad1"
      },
      "outputs": [
        {
          "output_type": "execute_result",
          "data": {
            "text/plain": [
              "<All keys matched successfully>"
            ]
          },
          "metadata": {},
          "execution_count": 42
        }
      ],
      "source": [
        "model = MLP().to(device)\n",
        "model.load_state_dict(torch.load(\"model.pth\"))"
      ]
    },
    {
      "cell_type": "markdown",
      "metadata": {
        "id": "p8Xr3VJbtoPW"
      },
      "source": [
        "Questo modello può ora essere utilizzato per effettuare previsioni.\n"
      ]
    },
    {
      "cell_type": "code",
      "execution_count": 43,
      "metadata": {
        "id": "QFR9ZDXttoPW",
        "colab": {
          "base_uri": "https://localhost:8080/"
        },
        "outputId": "cdcfeee4-0fca-49a4-b24d-7f05d709ea39"
      },
      "outputs": [
        {
          "output_type": "stream",
          "name": "stdout",
          "text": [
            "Predetto: \"Ankle boot\", Atteso: \"Ankle boot\"\n"
          ]
        }
      ],
      "source": [
        "classes = [\n",
        "    \"T-shirt/top\",\n",
        "    \"Trouser\",\n",
        "    \"Pullover\",\n",
        "    \"Dress\",\n",
        "    \"Coat\",\n",
        "    \"Sandal\",\n",
        "    \"Shirt\",\n",
        "    \"Sneaker\",\n",
        "    \"Bag\",\n",
        "    \"Ankle boot\",\n",
        "]\n",
        "\n",
        "model.eval()\n",
        "x, y = test_data[0][0], test_data[0][1]\n",
        "with torch.no_grad():\n",
        "    x = x.to(device)\n",
        "    pred = model(x)\n",
        "    predicted, actual = classes[pred[0].argmax(0)], classes[y]\n",
        "    print(f'Predetto: \"{predicted}\", Atteso: \"{actual}\"')"
      ]
    },
    {
      "cell_type": "markdown",
      "metadata": {
        "id": "-Qv-eTK5toPW"
      },
      "source": [
        "Per approfondimenti:[Saving & Loading your model](saveloadrun_tutorial.html).\n",
        "\n",
        "\n"
      ]
    }
  ],
  "metadata": {
    "kernelspec": {
      "display_name": "Python 3",
      "language": "python",
      "name": "python3"
    },
    "language_info": {
      "codemirror_mode": {
        "name": "ipython",
        "version": 3
      },
      "file_extension": ".py",
      "mimetype": "text/x-python",
      "name": "python",
      "nbconvert_exporter": "python",
      "pygments_lexer": "ipython3",
      "version": "3.10.13"
    },
    "colab": {
      "provenance": [],
      "collapsed_sections": [
        "vEIpDxnr5aY1"
      ]
    }
  },
  "nbformat": 4,
  "nbformat_minor": 0
}