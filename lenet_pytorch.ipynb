{
  "cells": [
    {
      "cell_type": "code",
      "execution_count": 1,
      "metadata": {
        "id": "pP8E3Ra4toPT"
      },
      "outputs": [],
      "source": [
        "# For tips on running notebooks in Google Colab, see\n",
        "# https://pytorch.org/tutorials/beginner/colab\n",
        "%matplotlib inline"
      ]
    },
    {
      "cell_type": "code",
      "execution_count": 2,
      "metadata": {
        "id": "EYuvZ3IFtoPU",
        "colab": {
          "base_uri": "https://localhost:8080/"
        },
        "outputId": "d1f7d372-944c-4de8-879c-40f683437c83"
      },
      "outputs": [
        {
          "output_type": "execute_result",
          "data": {
            "text/plain": [
              "<torch._C.Generator at 0x7df69c1958b0>"
            ]
          },
          "metadata": {},
          "execution_count": 2
        }
      ],
      "source": [
        "import torch\n",
        "from torch import nn\n",
        "import torch.nn.functional as F\n",
        "\n",
        "from torch.utils.data import DataLoader\n",
        "from torchvision import datasets\n",
        "from torchvision.transforms import ToTensor\n",
        "\n",
        "torch.manual_seed(42)"
      ]
    },
    {
      "cell_type": "markdown",
      "source": [
        "Ricarichiamo e riutilizziamo il dataset precedente."
      ],
      "metadata": {
        "id": "CaQwg9ynTuX_"
      }
    },
    {
      "cell_type": "code",
      "execution_count": 3,
      "metadata": {
        "id": "O87da_hLtoPU"
      },
      "outputs": [],
      "source": [
        "# Download training data from open datasets.\n",
        "training_data = datasets.FashionMNIST(\n",
        "    root=\"data\",\n",
        "    train=True,\n",
        "    download=True,\n",
        "    transform=ToTensor(),\n",
        ")\n",
        "\n",
        "# Download test data from open datasets.\n",
        "test_data = datasets.FashionMNIST(\n",
        "    root=\"data\",\n",
        "    train=False,\n",
        "    download=True,\n",
        "    transform=ToTensor(),\n",
        ")"
      ]
    },
    {
      "cell_type": "markdown",
      "source": [
        "## Creiamo i DataLoader\n"
      ],
      "metadata": {
        "id": "JLw50uBN4t9h"
      }
    },
    {
      "cell_type": "code",
      "execution_count": 4,
      "metadata": {
        "id": "gK_edbYktoPV",
        "colab": {
          "base_uri": "https://localhost:8080/"
        },
        "outputId": "66316fe8-fdbd-47a5-c609-b1c44aa6ab9c"
      },
      "outputs": [
        {
          "output_type": "stream",
          "name": "stdout",
          "text": [
            "Forma e dimensioni di X [N, C, H, W]: torch.Size([64, 1, 28, 28])\n",
            "Forma e dimensioni di y [N]: torch.Size([64]) torch.int64\n"
          ]
        }
      ],
      "source": [
        "batch_size = 64\n",
        "\n",
        "# Crea i data loader.\n",
        "train_dataloader = DataLoader(training_data, batch_size=batch_size)\n",
        "test_dataloader = DataLoader(test_data, batch_size=batch_size)\n",
        "\n",
        "for X, y in test_dataloader:\n",
        "    print(f\"Forma e dimensioni di X [N, C, H, W]: {X.shape}\")\n",
        "    print(f\"Forma e dimensioni di y [N]: {y.shape} {y.dtype}\")\n",
        "    break"
      ]
    },
    {
      "cell_type": "markdown",
      "source": [
        "Verifica delle funzionalità"
      ],
      "metadata": {
        "id": "aK1CwOgiNxZF"
      }
    },
    {
      "cell_type": "code",
      "source": [
        "from matplotlib import pyplot as plt\n",
        "\n",
        "channel=0\n",
        "plt.imshow(X[0,channel,...], cmap='gray')"
      ],
      "metadata": {
        "colab": {
          "base_uri": "https://localhost:8080/",
          "height": 448
        },
        "id": "jCmGxU1J_4IU",
        "outputId": "9eb58d9c-62d1-487a-a117-a0ea91a98461"
      },
      "execution_count": 5,
      "outputs": [
        {
          "output_type": "execute_result",
          "data": {
            "text/plain": [
              "<matplotlib.image.AxesImage at 0x7df5ce4ca980>"
            ]
          },
          "metadata": {},
          "execution_count": 5
        },
        {
          "output_type": "display_data",
          "data": {
            "text/plain": [
              "<Figure size 640x480 with 1 Axes>"
            ],
            "image/png": "[encoded data removed]"
          },
          "metadata": {}
        }
      ]
    },
    {
      "cell_type": "markdown",
      "source": [
        "## Esploriamo i filtri di Sobel\n",
        "\n",
        "Per illustrare il funzionamento delle convoluzioni proveremo a precaricare i pesi con i valori relativi ai filtri di Sobel.\n",
        "\n",
        "In particolare useremo i filtri per identificare i bordi verticali e orizzontali."
      ],
      "metadata": {
        "id": "gQIv6tGmtqtF"
      }
    },
    {
      "cell_type": "code",
      "source": [
        "# Define the Sobel filters as fixed weights for the convolutional layer\n",
        "# Sobel filter for detecting horizontal edges\n",
        "sobel_horizontal = torch.tensor([[-1., -2., -1.],\n",
        "                                 [ 0.,  0.,  0.],\n",
        "                                 [ 1.,  2.,  1.]]).view(1, 1, 3, 3)\n",
        "\n",
        "# Sobel filter for detecting vertical edges\n",
        "sobel_vertical = torch.tensor([[-1., 0., 1.],\n",
        "                               [-2., 0., 2.],\n",
        "                               [-1., 0., 1.]]).view(1, 1, 3, 3)\n",
        "\n",
        "# Combine the filters into a single tensor\n",
        "sobel_filters = torch.cat([sobel_horizontal, sobel_vertical], dim=0)"
      ],
      "metadata": {
        "id": "IpV_GPyGuBZh"
      },
      "execution_count": 6,
      "outputs": []
    },
    {
      "cell_type": "code",
      "source": [
        "\n",
        "# Create a convolutional layer with 1 input channel and 2 output channels\n",
        "# Here, the two output channels correspond to the horizontal and vertical Sobel filters\n",
        "conv = nn.Conv2d(1, 2, kernel_size=3, padding=1, bias=False)\n",
        "\n",
        "# Manually set the weights of the convolutional layer to the Sobel filters\n",
        "conv.weight = nn.Parameter(sobel_filters)\n",
        "\n",
        "# Apply the convolution to the image\n",
        "# The resulting tensor will have shape [1, 2, 28, 28] due to padding, with 2 channels for horizontal and vertical edges\n",
        "output = conv(X)\n",
        "\n",
        "print(\"Forma dell'output del filtro di Sobel:\", output.shape)"
      ],
      "metadata": {
        "colab": {
          "base_uri": "https://localhost:8080/"
        },
        "id": "DpFqcMFIuEef",
        "outputId": "986d37fd-0ebe-4026-d92b-f11140685e08"
      },
      "execution_count": 7,
      "outputs": [
        {
          "output_type": "stream",
          "name": "stdout",
          "text": [
            "Forma dell'output del filtro di Sobel: torch.Size([64, 2, 28, 28])\n"
          ]
        }
      ]
    },
    {
      "cell_type": "markdown",
      "source": [
        "Come vedete dalla forma di `output` abbiamo ottenuto due immagini diverse, un'immagine per ciascuno dei due filtri, per ognuna delle 64 immagini del primo batch.\n",
        "\n",
        "Andiamo a visualizzare le 2 immagini ottenute per il primo elemento del blocco."
      ],
      "metadata": {
        "id": "FFJ3EaezNdCH"
      }
    },
    {
      "cell_type": "code",
      "source": [
        "plt.imshow(output[0,0,...].detach().numpy(), cmap='gray')"
      ],
      "metadata": {
        "colab": {
          "base_uri": "https://localhost:8080/",
          "height": 448
        },
        "id": "rio-nlqmM9-N",
        "outputId": "29471d14-f0b3-485d-ba5e-80979ffe2382"
      },
      "execution_count": 8,
      "outputs": [
        {
          "output_type": "execute_result",
          "data": {
            "text/plain": [
              "<matplotlib.image.AxesImage at 0x7df5ce40ece0>"
            ]
          },
          "metadata": {},
          "execution_count": 8
        },
        {
          "output_type": "display_data",
          "data": {
            "text/plain": [
              "<Figure size 640x480 with 1 Axes>"
            ],
            "image/png": "[encoded data removed]"
          },
          "metadata": {}
        }
      ]
    },
    {
      "cell_type": "code",
      "source": [
        "plt.imshow(output[0,1,...].detach().numpy(), cmap='gray')"
      ],
      "metadata": {
        "colab": {
          "base_uri": "https://localhost:8080/",
          "height": 448
        },
        "id": "K4GJfIMfNJsO",
        "outputId": "2255ef75-6289-4869-eec0-2a5de52879be"
      },
      "execution_count": 9,
      "outputs": [
        {
          "output_type": "execute_result",
          "data": {
            "text/plain": [
              "<matplotlib.image.AxesImage at 0x7df5ce2ac970>"
            ]
          },
          "metadata": {},
          "execution_count": 9
        },
        {
          "output_type": "display_data",
          "data": {
            "text/plain": [
              "<Figure size 640x480 with 1 Axes>"
            ],
            "image/png": "[encoded data removed]"
          },
          "metadata": {}
        }
      ]
    },
    {
      "cell_type": "markdown",
      "source": [
        "Come atteso il primo filtro ha evidenziato i bordi orizzontali, mentre il secondo filtro ha evidenziato i bordi verticali."
      ],
      "metadata": {
        "id": "sIEb1LmRPd8Q"
      }
    },
    {
      "cell_type": "markdown",
      "source": [
        "Se prendiamo un'immagine naturale, otteniamo lo stesso risultato."
      ],
      "metadata": {
        "id": "7gn1r7G5QysY"
      }
    },
    {
      "cell_type": "code",
      "source": [
        "!curl -q https://upload.wikimedia.org/wikipedia/commons/thumb/c/c7/Tabby_cat_with_blue_eyes-3336579.jpg/128px-Tabby_cat_with_blue_eyes-3336579.jpg -o cat.jpg"
      ],
      "metadata": {
        "colab": {
          "base_uri": "https://localhost:8080/"
        },
        "id": "zAjGJrHKQxHw",
        "outputId": "e698fb75-9a32-4524-8cb0-37e4e17a3d95"
      },
      "execution_count": 10,
      "outputs": [
        {
          "output_type": "stream",
          "name": "stdout",
          "text": [
            "  % Total    % Received % Xferd  Average Speed   Time    Time     Time  Current\n",
            "                                 Dload  Upload   Total   Spent    Left  Speed\n",
            "\r  0     0    0     0    0     0      0      0 --:--:-- --:--:-- --:--:--     0\r100  6332  100  6332    0     0  26682      0 --:--:-- --:--:-- --:--:-- 26830\n"
          ]
        }
      ]
    },
    {
      "cell_type": "code",
      "source": [
        "from PIL import Image\n",
        "\n",
        "img = Image.open('cat.jpg')\n",
        "img = img.convert('RGB')\n",
        "img"
      ],
      "metadata": {
        "colab": {
          "base_uri": "https://localhost:8080/",
          "height": 171
        },
        "id": "94uKotglR89o",
        "outputId": "24452ac7-22f1-4a93-8a07-f6f3544e209e"
      },
      "execution_count": 11,
      "outputs": [
        {
          "output_type": "execute_result",
          "data": {
            "text/plain": [
              "<PIL.Image.Image image mode=RGB size=128x154>"
            ],
            "image/png": "[encoded data removed]"
          },
          "metadata": {},
          "execution_count": 11
        }
      ]
    },
    {
      "cell_type": "code",
      "source": [
        "import torchvision.transforms as transforms\n",
        "\n",
        "# Define the transformation\n",
        "transform = transforms.Compose([\n",
        "    transforms.Resize((28, 28)), # Resize the image to 28x28 pixels\n",
        "    transforms.ToTensor(), # Convert the image to a PyTorch tensor\n",
        "])\n",
        "\n",
        "# Apply the transformation to the image\n",
        "image_tensor = transform(img)\n",
        "\n",
        "# Add a batch dimension to the tensor\n",
        "# PyTorch convolutional layers expect inputs in the shape [batch_size, channels, height, width],\n",
        "# so we use unsqueeze(0) to add a batch dimension of size 1 at the beginning\n",
        "image_tensor = image_tensor.unsqueeze(0)"
      ],
      "metadata": {
        "id": "t-A091kxUFtb"
      },
      "execution_count": 12,
      "outputs": []
    },
    {
      "cell_type": "code",
      "source": [
        "image_tensor.shape"
      ],
      "metadata": {
        "colab": {
          "base_uri": "https://localhost:8080/"
        },
        "id": "njqIQHR6UYWt",
        "outputId": "17e4d8f3-e7b6-47dd-aad0-b91d0848ff25"
      },
      "execution_count": 13,
      "outputs": [
        {
          "output_type": "execute_result",
          "data": {
            "text/plain": [
              "torch.Size([1, 3, 28, 28])"
            ]
          },
          "metadata": {},
          "execution_count": 13
        }
      ]
    },
    {
      "cell_type": "markdown",
      "source": [
        "Ora abbiamo in ingresso delle immagini con 3 canali, un canale per ciascuno dei colori che compongono un'immagine a colori.\n",
        "\n",
        "I filtri di Sobel dovranno quindi essere replicati 3 volte per applicare ciascun filtro a ciascun canale  di ingresso e successivamente aggregare i risultati nei 2 separati canali di uscita, il primo canale d'uscita utile ad evidenziare i bordi orizziontali e il secondo i bordi verticali."
      ],
      "metadata": {
        "id": "qlINDaRPVfeO"
      }
    },
    {
      "cell_type": "code",
      "source": [
        "# Replicate filters for each RGB channel\n",
        "# This changes the second dimension from 1 to 3, indicating the 3 input channels (RGB)\n",
        "sobel_horizontal_rgb = sobel_horizontal.repeat(1, 3, 1, 1)\n",
        "sobel_vertical_rgb = sobel_vertical.repeat(1, 3, 1, 1)\n",
        "\n",
        "# Combine the filters into a single tensor for RGB\n",
        "sobel_filters_rgb = torch.cat([sobel_horizontal_rgb, sobel_vertical_rgb], dim=0)\n",
        "\n",
        "print(f\"Sobel filters for RGB shape: {sobel_filters_rgb.shape}\")"
      ],
      "metadata": {
        "colab": {
          "base_uri": "https://localhost:8080/"
        },
        "id": "EtUaz1MgVZIW",
        "outputId": "b481210f-0d91-4f21-c415-0f88afce9a61"
      },
      "execution_count": 14,
      "outputs": [
        {
          "output_type": "stream",
          "name": "stdout",
          "text": [
            "Sobel filters for RGB shape: torch.Size([2, 3, 3, 3])\n"
          ]
        }
      ]
    },
    {
      "cell_type": "code",
      "source": [
        "conv = nn.Conv2d(3, 2, kernel_size=3, padding=1, bias=False)\n",
        "conv.weight = nn.Parameter(sobel_filters_rgb)\n",
        "\n",
        "output = conv(image_tensor)"
      ],
      "metadata": {
        "id": "1TKlvEHrTh9Y"
      },
      "execution_count": 15,
      "outputs": []
    },
    {
      "cell_type": "code",
      "source": [
        "plt.imshow(output[0,0,...].detach().numpy())"
      ],
      "metadata": {
        "colab": {
          "base_uri": "https://localhost:8080/",
          "height": 448
        },
        "id": "SU5N0o7-VfJI",
        "outputId": "13e69199-21df-4ae2-cb04-e56a95728408"
      },
      "execution_count": 16,
      "outputs": [
        {
          "output_type": "execute_result",
          "data": {
            "text/plain": [
              "<matplotlib.image.AxesImage at 0x7df5ce31d9f0>"
            ]
          },
          "metadata": {},
          "execution_count": 16
        },
        {
          "output_type": "display_data",
          "data": {
            "text/plain": [
              "<Figure size 640x480 with 1 Axes>"
            ],
            "image/png": "[encoded data removed]"
          },
          "metadata": {}
        }
      ]
    },
    {
      "cell_type": "code",
      "source": [
        "plt.imshow(output[0,1,...].detach().numpy())"
      ],
      "metadata": {
        "colab": {
          "base_uri": "https://localhost:8080/",
          "height": 448
        },
        "id": "3h89vjLDgdd-",
        "outputId": "27b04f6a-c2c1-4e9e-cfcf-71d1a635ba23"
      },
      "execution_count": 17,
      "outputs": [
        {
          "output_type": "execute_result",
          "data": {
            "text/plain": [
              "<matplotlib.image.AxesImage at 0x7df5ce196170>"
            ]
          },
          "metadata": {},
          "execution_count": 17
        },
        {
          "output_type": "display_data",
          "data": {
            "text/plain": [
              "<Figure size 640x480 with 1 Axes>"
            ],
            "image/png": "[encoded data removed]"
          },
          "metadata": {}
        }
      ]
    },
    {
      "cell_type": "markdown",
      "metadata": {
        "id": "wQS-UBAbtoPV"
      },
      "source": [
        "--------------\n",
        "\n",
        "\n"
      ]
    },
    {
      "cell_type": "markdown",
      "source": [
        "# Architettura della Rete Neurale"
      ],
      "metadata": {
        "id": "_WdAVJcO69eg"
      }
    },
    {
      "cell_type": "markdown",
      "source": [
        "Creiamo ora una rete neurale convolutiva basata sull'architettura della prima rete neurale convoluzionale usata per scopi pratici: *LeNet*.\n",
        "Inventata nel 1989 da Yann LeCun per riconoscere cifre scritte a mano e digitalizzate, aveva un tasso di errore inferiore all'1% e fu successivamente utilizzata per riconoscere le cifre scritte a mano sugli assegni nelle ATM.\n",
        "\n",
        "Anche questa rete, come l'MLP visto prima, riceve in ingresso delle immagini di dimensioni 28x28 pixel (quindi 768 pixel). In uscita attiva 10 neuroni per classificare l'immagine in una di 10 categorie (nella versione originale le 10 cifre, per noi le 10 etichette).\n",
        "\n",
        "Il diagramma della rete originale è mostrato qui di seguito.\n",
        "\n",
        "[![Flusso dei dati in LeNet. L'input è un numero scritto a mano, l'output è una probabilità su 10 possibili risultati.](http://d2l.ai/_images/lenet.svg)](https://D2L.ai) Citazione: Zhang, A., Lipton, Z. C., Li, M., & Smola, A. J. (2023). Dive into Deep Learning. Cambridge University Press. [Disponibile su D2L.ai](https://D2L.ai)\n"
      ],
      "metadata": {
        "id": "w0MubLjmtSCP"
      }
    },
    {
      "cell_type": "markdown",
      "source": [
        "La rete LeNet-5 è composta da due parti principali:\n",
        "* un insieme di due layer convoluzionali chiamato \"encoder convoluzionale\"\n",
        "* un gruppo di tre layer completamente connessi noto come \"blocco denso\". La parte finale è molto simile al MLP che abbiamo già visto.\n",
        "\n",
        "Ogni blocco convoluzionale comprende un layer convoluzionale, una funzione di attivazione (una sigmoide) e un'operazione di average pooling (sebbene la funzione di attivazione di tipo ReLU e il max-pooling siano più efficaci, nel 1989 non erano ancora stati scoperti).\n",
        "\n",
        "Ogni layer convoluzionale utilizza un filtro di dimensioni $5\\times 5$ e una funzione di attivazione sigmoide. Il primo layer convoluzionale produce 6 canali di output, mentre il secondo ne produce 16.\n",
        "\n",
        "Ogni operazione di pooling $2\\times2$ (con uno stride di 2) riduce la dimensionalità di un fattore 4 tramite il downsampling spaziale.\n",
        "\n",
        "Il blocco convoluzionale produce dati con forma [dimensione del batch, numero di canali, altezza, larghezza].\n",
        "\n",
        "Per alimentare l'output dal blocco convoluzionale nel blocco denso, dobbiamo appiattire ogni esempio nel mini-batch, trasformando l'input quadridimensionale nel formato bidimensionale richiesto dai layer completamente connessi.\n",
        "\n",
        "Il blocco denso di LeNet contiene tre layer completamente connessi con 120, 84 e 10 output, rispettivamente. Poiché stiamo ancora facendo classificazione, il layer di output a 10 dimensioni corrisponde al numero di classi possibili."
      ],
      "metadata": {
        "id": "4epLtstJugZL"
      }
    },
    {
      "cell_type": "markdown",
      "source": [
        "## Creazione della LeNet"
      ],
      "metadata": {
        "id": "WcRuOKWNkUNB"
      }
    },
    {
      "cell_type": "code",
      "execution_count": 18,
      "metadata": {
        "id": "ie4sEgTctoPV",
        "colab": {
          "base_uri": "https://localhost:8080/"
        },
        "outputId": "e5198880-08fe-4b46-fd9b-a7033853e7e0"
      },
      "outputs": [
        {
          "output_type": "stream",
          "name": "stdout",
          "text": [
            "Using cpu device\n"
          ]
        }
      ],
      "source": [
        "# Get cpu, gpu or mps device for training.\n",
        "device = (\n",
        "    \"cuda\"\n",
        "    if torch.cuda.is_available()\n",
        "    else \"mps\"\n",
        "    if torch.backends.mps.is_available()\n",
        "    else \"cpu\"\n",
        ")\n",
        "print(f\"Using {device} device\")"
      ]
    },
    {
      "cell_type": "markdown",
      "metadata": {
        "id": "qmwQqF4ftoPV"
      },
      "source": [
        "Come prima, per definire una rete neurale in PyTorch, creiamo una classe che eredita da [nn.Module](https://pytorch.org/docs/stable/generated/torch.nn.Module.html).\n",
        "\n",
        "Definiamo inoltre gli strati della rete\n",
        "nella funzione ``__init__`` e specifichiamo come i dati passeranno attraverso la rete nella funzione ``forward``.\n"
      ]
    },
    {
      "cell_type": "code",
      "source": [
        "class LeNet(nn.Module):\n",
        "    def __init__(self):\n",
        "        super(LeNet, self).__init__()\n",
        "        # Convolutional layer 1: 1 input channel (grayscale image), 6 output channels, 5x5 kernel\n",
        "        self.conv1 = nn.Conv2d(1, 6, 5, padding=2)\n",
        "        # Subsampling (average pooling) layer\n",
        "        self.pool = nn.AvgPool2d(2, 2)\n",
        "        # Convolutional layer 2: 6 input channels, 16 output channels, 5x5 kernel\n",
        "        self.conv2 = nn.Conv2d(6, 16, 5)\n",
        "        # Fully connected layer 1: 16*5*5 input features, 120 output features\n",
        "        self.fc1 = nn.Linear(16 * 5 * 5, 120)\n",
        "        # Fully connected layer 2: 120 input features, 84 output features\n",
        "        self.fc2 = nn.Linear(120, 84)\n",
        "        # Output layer: 84 input features, 10 output features (for 10 classes)\n",
        "        self.fc3 = nn.Linear(84, 10)\n",
        "\n",
        "    def forward(self, x):\n",
        "        # Apply convolutional layer 1 followed by Sigmoid and pooling\n",
        "        x = self.pool(F.tanh(self.conv1(x)))\n",
        "        # Apply convolutional layer 2 followed by Sigmoid and pooling\n",
        "        x = self.pool(F.tanh(self.conv2(x)))\n",
        "        # Flatten the output for the fully connected layer\n",
        "        x = x.view(-1, 16 * 5 * 5)\n",
        "        # Apply first fully connected layer with Sigmoid\n",
        "        x = F.tanh(self.fc1(x))\n",
        "        # Apply second fully connected layer with Sigmoid\n",
        "        x = F.tanh(self.fc2(x))\n",
        "        # Apply output layer\n",
        "        x = self.fc3(x)\n",
        "        return x"
      ],
      "metadata": {
        "id": "g4K5DzIe7OoP"
      },
      "execution_count": 19,
      "outputs": []
    },
    {
      "cell_type": "code",
      "source": [
        "# Create an instance of the LeNet model\n",
        "model = LeNet().to(device)\n",
        "print(model)"
      ],
      "metadata": {
        "colab": {
          "base_uri": "https://localhost:8080/"
        },
        "id": "py0pcdSh7RC8",
        "outputId": "75397f36-0d70-405c-f940-10605ba862fa"
      },
      "execution_count": 20,
      "outputs": [
        {
          "output_type": "stream",
          "name": "stdout",
          "text": [
            "LeNet(\n",
            "  (conv1): Conv2d(1, 6, kernel_size=(5, 5), stride=(1, 1), padding=(2, 2))\n",
            "  (pool): AvgPool2d(kernel_size=2, stride=2, padding=0)\n",
            "  (conv2): Conv2d(6, 16, kernel_size=(5, 5), stride=(1, 1))\n",
            "  (fc1): Linear(in_features=400, out_features=120, bias=True)\n",
            "  (fc2): Linear(in_features=120, out_features=84, bias=True)\n",
            "  (fc3): Linear(in_features=84, out_features=10, bias=True)\n",
            ")\n"
          ]
        }
      ]
    },
    {
      "cell_type": "markdown",
      "source": [
        "Proviamo ora ad usare la rete neurale che abbiamo appena creato grazie al suo metodo `forward`.\n",
        "\n",
        "Usiamo come input il blocco `X` di 64 immagini che avevamo caricato precedentemente.\n",
        "\n",
        "Esaminiamo poi il valore dei 10 neuroni per il primo elemento del blocco."
      ],
      "metadata": {
        "id": "McJ_-U4U8aVK"
      }
    },
    {
      "cell_type": "code",
      "source": [
        "logits = model.forward(X)\n",
        "print(logits[0])"
      ],
      "metadata": {
        "colab": {
          "base_uri": "https://localhost:8080/"
        },
        "id": "R4j7Ut3Y8QyB",
        "outputId": "6f2c4656-4f0f-4e64-9f4c-737a6916d226"
      },
      "execution_count": 21,
      "outputs": [
        {
          "output_type": "stream",
          "name": "stdout",
          "text": [
            "tensor([-0.0677, -0.0712,  0.0065, -0.0439,  0.0387, -0.0590,  0.0212, -0.0394,\n",
            "         0.0374, -0.0024], grad_fn=<SelectBackward0>)\n"
          ]
        }
      ]
    },
    {
      "cell_type": "markdown",
      "source": [
        "Anche in questo il neurone che contiene il valore maggiore deve rappresentare la classe associata all'oggetto rappresentata.\n",
        "\n",
        "Ancora una volta, prima dell'addestramento, i valori che otteniamo sono casuali.\n",
        "\n",
        "Procediamo quindi all'addestramento nella fase successiva."
      ],
      "metadata": {
        "id": "wLD7ECex86mP"
      }
    },
    {
      "cell_type": "markdown",
      "metadata": {
        "id": "5hHHEdeAtoPV"
      },
      "source": [
        "--------------\n",
        "\n",
        "\n"
      ]
    },
    {
      "cell_type": "markdown",
      "metadata": {
        "id": "7Az8CMEMtoPV"
      },
      "source": [
        "## Addestramento della rete neurale\n",
        "\n",
        "\n",
        "Riusiamo la stessa funzione di costo già vista, la [`CrossEntropyLoss`](https://pytorch.org/docs/stable/generated/torch.nn.CrossEntropyLoss.html) e lo stesso algoritmo di ottimizzazione, il *Stochastic Gradient Descent* [`SGD`](https://pytorch.org/docs/stable/generated/torch.optim.SGD.html).\n"
      ]
    },
    {
      "cell_type": "code",
      "execution_count": 22,
      "metadata": {
        "id": "rJlHI6gjtoPV"
      },
      "outputs": [],
      "source": [
        "loss_fn = nn.CrossEntropyLoss()\n",
        "optimizer = torch.optim.SGD(model.parameters(), lr=0.1)"
      ]
    },
    {
      "cell_type": "markdown",
      "metadata": {
        "id": "YXHzc3_YtoPV"
      },
      "source": [
        "Anche la funzione `train` non cambia.\n",
        "\n"
      ]
    },
    {
      "cell_type": "code",
      "execution_count": 23,
      "metadata": {
        "id": "qpBcb7eltoPV"
      },
      "outputs": [],
      "source": [
        "def train(dataloader, model, loss_fn, optimizer):\n",
        "    size = len(dataloader.dataset)\n",
        "    model.train()\n",
        "    for batch, (X, y) in enumerate(dataloader):\n",
        "        X, y = X.to(device), y.to(device)\n",
        "\n",
        "        # Compute prediction error\n",
        "        pred = model(X)\n",
        "        loss = loss_fn(pred, y)\n",
        "\n",
        "        # Backpropagation\n",
        "        loss.backward()\n",
        "        optimizer.step()\n",
        "        optimizer.zero_grad()\n",
        "\n",
        "        if batch % 100 == 0:\n",
        "            loss, current = loss.item(), (batch + 1) * len(X)\n",
        "            print(f\"loss: {loss:>7f}  [{current:>5d}/{size:>5d}]\")"
      ]
    },
    {
      "cell_type": "markdown",
      "metadata": {
        "id": "MPJ3jVMstoPV"
      },
      "source": [
        "Controlliamo anche le prestazioni del modello rispetto all'insieme di dati di test per garantire che stia imparando.\n"
      ]
    },
    {
      "cell_type": "code",
      "execution_count": 24,
      "metadata": {
        "id": "UguqqLyitoPV"
      },
      "outputs": [],
      "source": [
        "def test(dataloader, model, loss_fn):\n",
        "    size = len(dataloader.dataset)\n",
        "    num_batches = len(dataloader)\n",
        "    model.eval()\n",
        "    test_loss, correct = 0, 0\n",
        "    with torch.no_grad():\n",
        "        for X, y in dataloader:\n",
        "            X, y = X.to(device), y.to(device)\n",
        "            pred = model(X)\n",
        "            test_loss += loss_fn(pred, y).item()\n",
        "            correct += (pred.argmax(1) == y).type(torch.float).sum().item()\n",
        "    test_loss /= num_batches\n",
        "    correct /= size\n",
        "    print(f\"Test Error: \\n Accuracy: {(100*correct):>0.1f}%, Avg loss: {test_loss:>8f} \\n\")"
      ]
    },
    {
      "cell_type": "markdown",
      "metadata": {
        "id": "JHx8GpH6toPV"
      },
      "source": [
        "Il processo di addestramento viene condotto su diverse iterazioni (*epoche*).\n",
        "\n",
        "Durante ciascuna epoca, il modello impara i parametri per effettuare previsioni migliori.\n",
        "\n",
        "Se stampiamo l'accuratezza e la `loss` del modello ad ogni epoca; ci aspettiamo che l'accuratezza aumenti e la `loss` diminuisca ad ogni epoca.\n"
      ]
    },
    {
      "cell_type": "code",
      "execution_count": 25,
      "metadata": {
        "id": "diujiewFtoPV",
        "colab": {
          "base_uri": "https://localhost:8080/"
        },
        "outputId": "481070c4-5bf7-4699-dcd9-2c45da2bad43"
      },
      "outputs": [
        {
          "output_type": "stream",
          "name": "stdout",
          "text": [
            "Epoch 1\n",
            "-------------------------------\n",
            "loss: 2.313346  [   64/60000]\n",
            "loss: 1.176695  [ 6464/60000]\n",
            "loss: 0.687199  [12864/60000]\n",
            "loss: 0.813933  [19264/60000]\n",
            "loss: 0.638143  [25664/60000]\n",
            "loss: 0.654289  [32064/60000]\n",
            "loss: 0.570984  [38464/60000]\n",
            "loss: 0.515254  [44864/60000]\n",
            "loss: 0.568194  [51264/60000]\n",
            "loss: 0.464107  [57664/60000]\n",
            "Test Error: \n",
            " Accuracy: 80.7%, Avg loss: 0.524922 \n",
            "\n",
            "Epoch 2\n",
            "-------------------------------\n",
            "loss: 0.411185  [   64/60000]\n",
            "loss: 0.443416  [ 6464/60000]\n",
            "loss: 0.336838  [12864/60000]\n",
            "loss: 0.506273  [19264/60000]\n",
            "loss: 0.435030  [25664/60000]\n",
            "loss: 0.458724  [32064/60000]\n",
            "loss: 0.378442  [38464/60000]\n",
            "loss: 0.473275  [44864/60000]\n",
            "loss: 0.585039  [51264/60000]\n",
            "loss: 0.397754  [57664/60000]\n",
            "Test Error: \n",
            " Accuracy: 83.2%, Avg loss: 0.456350 \n",
            "\n",
            "Epoch 3\n",
            "-------------------------------\n",
            "loss: 0.362803  [   64/60000]\n",
            "loss: 0.327711  [ 6464/60000]\n",
            "loss: 0.276394  [12864/60000]\n",
            "loss: 0.431000  [19264/60000]\n",
            "loss: 0.390994  [25664/60000]\n",
            "loss: 0.424826  [32064/60000]\n",
            "loss: 0.320740  [38464/60000]\n",
            "loss: 0.438951  [44864/60000]\n",
            "loss: 0.557989  [51264/60000]\n",
            "loss: 0.391036  [57664/60000]\n",
            "Test Error: \n",
            " Accuracy: 84.8%, Avg loss: 0.412484 \n",
            "\n",
            "Epoch 4\n",
            "-------------------------------\n",
            "loss: 0.319445  [   64/60000]\n",
            "loss: 0.290974  [ 6464/60000]\n",
            "loss: 0.245033  [12864/60000]\n",
            "loss: 0.388417  [19264/60000]\n",
            "loss: 0.375673  [25664/60000]\n",
            "loss: 0.402878  [32064/60000]\n",
            "loss: 0.289756  [38464/60000]\n",
            "loss: 0.414859  [44864/60000]\n",
            "loss: 0.512405  [51264/60000]\n",
            "loss: 0.387444  [57664/60000]\n",
            "Test Error: \n",
            " Accuracy: 85.6%, Avg loss: 0.382346 \n",
            "\n",
            "Epoch 5\n",
            "-------------------------------\n",
            "loss: 0.283244  [   64/60000]\n",
            "loss: 0.271468  [ 6464/60000]\n",
            "loss: 0.226579  [12864/60000]\n",
            "loss: 0.357267  [19264/60000]\n",
            "loss: 0.367598  [25664/60000]\n",
            "loss: 0.384164  [32064/60000]\n",
            "loss: 0.268462  [38464/60000]\n",
            "loss: 0.392622  [44864/60000]\n",
            "loss: 0.472673  [51264/60000]\n",
            "loss: 0.373224  [57664/60000]\n",
            "Test Error: \n",
            " Accuracy: 86.2%, Avg loss: 0.363046 \n",
            "\n",
            "Done!\n"
          ]
        }
      ],
      "source": [
        "epochs = 5\n",
        "for t in range(epochs):\n",
        "    print(f\"Epoch {t+1}\\n-------------------------------\")\n",
        "    train(train_dataloader, model, loss_fn, optimizer)\n",
        "    test(test_dataloader, model, loss_fn)\n",
        "print(\"Done!\")"
      ]
    },
    {
      "cell_type": "markdown",
      "metadata": {
        "id": "3pd4Wbp7toPW"
      },
      "source": [
        "Per approfondimenti [Training your model](optimization_tutorial.html).\n",
        "\n",
        "\n"
      ]
    },
    {
      "cell_type": "markdown",
      "metadata": {
        "id": "9N8db6w3toPW"
      },
      "source": [
        "--------------\n",
        "\n",
        "\n"
      ]
    },
    {
      "cell_type": "markdown",
      "source": [
        "## Modernizziamo la LeNet"
      ],
      "metadata": {
        "id": "GdIK5jWUkk9Y"
      }
    },
    {
      "cell_type": "markdown",
      "source": [
        "Come accennato in precedenza dal 1989 ad oggi diversi miglioramenti sono stati introdotti per velocizzare e migliorare l'apprendimento delle Reti Neurali.\n",
        "\n",
        "Vediamo ora una carrellata di questi metodi partendo dal *max-pooling* e dalla sostituzione della funzione di attivazione dalla sigmoide alla *ReLU*.\n",
        "\n",
        "Creiamo quindi una nuova rete che chiameremo `LeNetMaxRelu`."
      ],
      "metadata": {
        "id": "ue3FHkM7ko55"
      }
    },
    {
      "cell_type": "code",
      "source": [
        "class LeNetMaxRelu(nn.Module):\n",
        "    def __init__(self):\n",
        "        super(LeNetMaxRelu, self).__init__()\n",
        "        # Convolutional layer 1: 1 input channel (grayscale image), 6 output channels, 5x5 kernel\n",
        "        self.conv1 = nn.Conv2d(1, 6, 5, padding=2)\n",
        "        # Subsampling (max pooling) layer\n",
        "        self.pool = nn.MaxPool2d(2, 2)\n",
        "        # Convolutional layer 2: 6 input channels, 16 output channels, 5x5 kernel\n",
        "        self.conv2 = nn.Conv2d(6, 16, 5)\n",
        "        # Fully connected layer 1: 16*5*5 input features, 120 output features\n",
        "        self.fc1 = nn.Linear(16 * 5 * 5, 120)\n",
        "        # Fully connected layer 2: 120 input features, 84 output features\n",
        "        self.fc2 = nn.Linear(120, 84)\n",
        "        # Output layer: 84 input features, 10 output features (for 10 classes)\n",
        "        self.fc3 = nn.Linear(84, 10)\n",
        "\n",
        "    def forward(self, x):\n",
        "        # Apply convolutional layer 1 followed by ReLU and pooling\n",
        "        x = self.pool(F.relu(self.conv1(x)))\n",
        "        # Apply convolutional layer 2 followed by ReLU and pooling\n",
        "        x = self.pool(F.relu(self.conv2(x)))\n",
        "        # Flatten the output for the fully connected layer\n",
        "        x = x.view(-1, 16 * 5 * 5)\n",
        "        # Apply first fully connected layer with ReLU\n",
        "        x = F.relu(self.fc1(x))\n",
        "        # Apply second fully connected layer with ReLU\n",
        "        x = F.relu(self.fc2(x))\n",
        "        # Apply output layer\n",
        "        x = self.fc3(x)\n",
        "        return x"
      ],
      "metadata": {
        "id": "6WHHVT5SlJeA"
      },
      "execution_count": 26,
      "outputs": []
    },
    {
      "cell_type": "code",
      "source": [
        "# Create an instance of the LeNetMaxRelu model\n",
        "model = LeNetMaxRelu().to(device)\n",
        "print(model)"
      ],
      "metadata": {
        "colab": {
          "base_uri": "https://localhost:8080/"
        },
        "id": "wFq-qWoPlz4m",
        "outputId": "9820fdca-9c83-4767-a9b5-01c5a888ccb9"
      },
      "execution_count": 27,
      "outputs": [
        {
          "output_type": "stream",
          "name": "stdout",
          "text": [
            "LeNetMaxRelu(\n",
            "  (conv1): Conv2d(1, 6, kernel_size=(5, 5), stride=(1, 1), padding=(2, 2))\n",
            "  (pool): MaxPool2d(kernel_size=2, stride=2, padding=0, dilation=1, ceil_mode=False)\n",
            "  (conv2): Conv2d(6, 16, kernel_size=(5, 5), stride=(1, 1))\n",
            "  (fc1): Linear(in_features=400, out_features=120, bias=True)\n",
            "  (fc2): Linear(in_features=120, out_features=84, bias=True)\n",
            "  (fc3): Linear(in_features=84, out_features=10, bias=True)\n",
            ")\n"
          ]
        }
      ]
    },
    {
      "cell_type": "code",
      "source": [
        "optimizer = torch.optim.SGD(model.parameters(), lr=1e-1)"
      ],
      "metadata": {
        "id": "YCA6njpTl2VG"
      },
      "execution_count": 28,
      "outputs": []
    },
    {
      "cell_type": "code",
      "source": [
        "epochs = 5\n",
        "for t in range(epochs):\n",
        "    print(f\"Epoch {t+1}\\n-------------------------------\")\n",
        "    train(train_dataloader, model, loss_fn, optimizer)\n",
        "    test(test_dataloader, model, loss_fn)\n",
        "print(\"Done!\")"
      ],
      "metadata": {
        "colab": {
          "base_uri": "https://localhost:8080/"
        },
        "id": "JrrGeFVBl9Yc",
        "outputId": "83ab825b-b166-452a-9839-df3bec8fa289"
      },
      "execution_count": 29,
      "outputs": [
        {
          "output_type": "stream",
          "name": "stdout",
          "text": [
            "Epoch 1\n",
            "-------------------------------\n",
            "loss: 2.295714  [   64/60000]\n",
            "loss: 1.315357  [ 6464/60000]\n",
            "loss: 0.667714  [12864/60000]\n",
            "loss: 0.806602  [19264/60000]\n",
            "loss: 0.645024  [25664/60000]\n",
            "loss: 0.683266  [32064/60000]\n",
            "loss: 0.547065  [38464/60000]\n",
            "loss: 0.581766  [44864/60000]\n",
            "loss: 0.648382  [51264/60000]\n",
            "loss: 0.460143  [57664/60000]\n",
            "Test Error: \n",
            " Accuracy: 81.0%, Avg loss: 0.503575 \n",
            "\n",
            "Epoch 2\n",
            "-------------------------------\n",
            "loss: 0.434902  [   64/60000]\n",
            "loss: 0.450140  [ 6464/60000]\n",
            "loss: 0.349929  [12864/60000]\n",
            "loss: 0.431674  [19264/60000]\n",
            "loss: 0.497200  [25664/60000]\n",
            "loss: 0.525443  [32064/60000]\n",
            "loss: 0.359559  [38464/60000]\n",
            "loss: 0.528723  [44864/60000]\n",
            "loss: 0.556781  [51264/60000]\n",
            "loss: 0.363033  [57664/60000]\n",
            "Test Error: \n",
            " Accuracy: 84.6%, Avg loss: 0.409188 \n",
            "\n",
            "Epoch 3\n",
            "-------------------------------\n",
            "loss: 0.311594  [   64/60000]\n",
            "loss: 0.335509  [ 6464/60000]\n",
            "loss: 0.290025  [12864/60000]\n",
            "loss: 0.325048  [19264/60000]\n",
            "loss: 0.401876  [25664/60000]\n",
            "loss: 0.409723  [32064/60000]\n",
            "loss: 0.293801  [38464/60000]\n",
            "loss: 0.468689  [44864/60000]\n",
            "loss: 0.491651  [51264/60000]\n",
            "loss: 0.354664  [57664/60000]\n",
            "Test Error: \n",
            " Accuracy: 86.6%, Avg loss: 0.366643 \n",
            "\n",
            "Epoch 4\n",
            "-------------------------------\n",
            "loss: 0.263887  [   64/60000]\n",
            "loss: 0.271220  [ 6464/60000]\n",
            "loss: 0.238344  [12864/60000]\n",
            "loss: 0.301169  [19264/60000]\n",
            "loss: 0.315564  [25664/60000]\n",
            "loss: 0.387361  [32064/60000]\n",
            "loss: 0.267184  [38464/60000]\n",
            "loss: 0.457587  [44864/60000]\n",
            "loss: 0.466568  [51264/60000]\n",
            "loss: 0.344757  [57664/60000]\n",
            "Test Error: \n",
            " Accuracy: 87.3%, Avg loss: 0.343793 \n",
            "\n",
            "Epoch 5\n",
            "-------------------------------\n",
            "loss: 0.211345  [   64/60000]\n",
            "loss: 0.252077  [ 6464/60000]\n",
            "loss: 0.215930  [12864/60000]\n",
            "loss: 0.274133  [19264/60000]\n",
            "loss: 0.271866  [25664/60000]\n",
            "loss: 0.376364  [32064/60000]\n",
            "loss: 0.257512  [38464/60000]\n",
            "loss: 0.409892  [44864/60000]\n",
            "loss: 0.427857  [51264/60000]\n",
            "loss: 0.327896  [57664/60000]\n",
            "Test Error: \n",
            " Accuracy: 88.0%, Avg loss: 0.328366 \n",
            "\n",
            "Done!\n"
          ]
        }
      ]
    },
    {
      "cell_type": "markdown",
      "source": [
        "Possiamo fare meglio?\n",
        "\n",
        "Si possiamo\n",
        "\n",
        "* sostituire l'ottimizzatore con un algoritmo più moderno: [AdamW](https://pytorch.org/docs/stable/generated/torch.optim.AdamW.html)\n",
        "* introdurre uno strato di regolarizzazione: il [`torch.nn.Dropout`](vhttps://pytorch.org/docs/stable/generated/torch.nn.Dropout.html)\n"
      ],
      "metadata": {
        "id": "4fISCi64tPzZ"
      }
    },
    {
      "cell_type": "code",
      "source": [
        "class ModernLeNet(nn.Module):\n",
        "    def __init__(self):\n",
        "        super(ModernLeNet, self).__init__()\n",
        "        # Convolutional layer 1: 1 input channel (grayscale image), 6 output channels, 5x5 kernel\n",
        "        self.conv1 = nn.Conv2d(1, 6, 5, padding=2)\n",
        "        # Subsampling (max pooling) layer\n",
        "        self.pool = nn.MaxPool2d(2, 2)\n",
        "        # Convolutional layer 2: 6 input channels, 16 output channels, 5x5 kernel\n",
        "        self.conv2 = nn.Conv2d(6, 16, 5)\n",
        "        # Fully connected layer 1: 16*5*5 input features, 120 output features\n",
        "        self.fc1 = nn.Linear(16 * 5 * 5, 120)\n",
        "        # Fully connected layer 2: 120 input features, 84 output features\n",
        "        self.fc2 = nn.Linear(120, 84)\n",
        "        # Dropout layer\n",
        "        self.dropout = nn.Dropout(p=0.25)\n",
        "        # Output layer: 84 input features, 10 output features (for 10 classes)\n",
        "        self.fc3 = nn.Linear(84, 10)\n",
        "\n",
        "    def forward(self, x):\n",
        "        # Apply convolutional layer 1 followed by ReLU and pooling\n",
        "        x = self.pool(F.relu(self.conv1(x)))\n",
        "        # Apply convolutional layer 2 followed by ReLU and pooling\n",
        "        x = self.pool(F.relu(self.conv2(x)))\n",
        "        # Flatten the output for the fully connected layer\n",
        "        x = x.view(-1, 16 * 5 * 5)\n",
        "        # Apply first fully connected layer with ReLU\n",
        "        x = F.relu(self.fc1(x))\n",
        "        # Apply second fully connected layer with ReLU\n",
        "        x = F.relu(self.fc2(x))\n",
        "        # Apply the dropout layer\n",
        "        x = self.dropout(x)\n",
        "        # Apply output layer\n",
        "        x = self.fc3(x)\n",
        "        return x"
      ],
      "metadata": {
        "id": "7G2g7ZoJuAi7"
      },
      "execution_count": 30,
      "outputs": []
    },
    {
      "cell_type": "code",
      "source": [
        "# Create an instance of the ModernLeNet model\n",
        "model = ModernLeNet().to(device)\n",
        "print(model)"
      ],
      "metadata": {
        "colab": {
          "base_uri": "https://localhost:8080/"
        },
        "id": "TKFAuaCLuPvE",
        "outputId": "040b5cdb-e76a-4d37-c724-71640221c9f9"
      },
      "execution_count": 38,
      "outputs": [
        {
          "output_type": "stream",
          "name": "stdout",
          "text": [
            "ModernLeNet(\n",
            "  (conv1): Conv2d(1, 6, kernel_size=(5, 5), stride=(1, 1), padding=(2, 2))\n",
            "  (pool): MaxPool2d(kernel_size=2, stride=2, padding=0, dilation=1, ceil_mode=False)\n",
            "  (conv2): Conv2d(6, 16, kernel_size=(5, 5), stride=(1, 1))\n",
            "  (fc1): Linear(in_features=400, out_features=120, bias=True)\n",
            "  (fc2): Linear(in_features=120, out_features=84, bias=True)\n",
            "  (dropout): Dropout(p=0.25, inplace=False)\n",
            "  (fc3): Linear(in_features=84, out_features=10, bias=True)\n",
            ")\n"
          ]
        }
      ]
    },
    {
      "cell_type": "code",
      "source": [
        "optimizer = torch.optim.AdamW(model.parameters(), lr=3e-3)"
      ],
      "metadata": {
        "id": "6jD5DPxRuXZW"
      },
      "execution_count": 39,
      "outputs": []
    },
    {
      "cell_type": "code",
      "source": [
        "epochs = 10\n",
        "for t in range(epochs):\n",
        "    print(f\"Epoch {t+1}\\n-------------------------------\")\n",
        "    train(train_dataloader, model, loss_fn, optimizer)\n",
        "    test(test_dataloader, model, loss_fn)\n",
        "print(\"Done!\")"
      ],
      "metadata": {
        "colab": {
          "base_uri": "https://localhost:8080/"
        },
        "id": "cWbxhxrnumqY",
        "outputId": "150a14c4-7ec7-4554-f8cf-9489a607b484"
      },
      "execution_count": 40,
      "outputs": [
        {
          "output_type": "stream",
          "name": "stdout",
          "text": [
            "Epoch 1\n",
            "-------------------------------\n",
            "loss: 2.293716  [   64/60000]\n",
            "loss: 0.722264  [ 6464/60000]\n",
            "loss: 0.439281  [12864/60000]\n",
            "loss: 0.538377  [19264/60000]\n",
            "loss: 0.548997  [25664/60000]\n",
            "loss: 0.463262  [32064/60000]\n",
            "loss: 0.436361  [38464/60000]\n",
            "loss: 0.615798  [44864/60000]\n",
            "loss: 0.501393  [51264/60000]\n",
            "loss: 0.470614  [57664/60000]\n",
            "Test Error: \n",
            " Accuracy: 83.4%, Avg loss: 0.445611 \n",
            "\n",
            "Epoch 2\n",
            "-------------------------------\n",
            "loss: 0.389954  [   64/60000]\n",
            "loss: 0.330653  [ 6464/60000]\n",
            "loss: 0.349336  [12864/60000]\n",
            "loss: 0.387345  [19264/60000]\n",
            "loss: 0.387316  [25664/60000]\n",
            "loss: 0.372669  [32064/60000]\n",
            "loss: 0.337102  [38464/60000]\n",
            "loss: 0.524568  [44864/60000]\n",
            "loss: 0.436145  [51264/60000]\n",
            "loss: 0.396776  [57664/60000]\n",
            "Test Error: \n",
            " Accuracy: 86.5%, Avg loss: 0.356778 \n",
            "\n",
            "Epoch 3\n",
            "-------------------------------\n",
            "loss: 0.302921  [   64/60000]\n",
            "loss: 0.360136  [ 6464/60000]\n",
            "loss: 0.285578  [12864/60000]\n",
            "loss: 0.327831  [19264/60000]\n",
            "loss: 0.362385  [25664/60000]\n",
            "loss: 0.383456  [32064/60000]\n",
            "loss: 0.258071  [38464/60000]\n",
            "loss: 0.456491  [44864/60000]\n",
            "loss: 0.370259  [51264/60000]\n",
            "loss: 0.357556  [57664/60000]\n",
            "Test Error: \n",
            " Accuracy: 87.4%, Avg loss: 0.344859 \n",
            "\n",
            "Epoch 4\n",
            "-------------------------------\n",
            "loss: 0.253308  [   64/60000]\n",
            "loss: 0.243788  [ 6464/60000]\n",
            "loss: 0.306790  [12864/60000]\n",
            "loss: 0.306617  [19264/60000]\n",
            "loss: 0.329223  [25664/60000]\n",
            "loss: 0.389916  [32064/60000]\n",
            "loss: 0.225659  [38464/60000]\n",
            "loss: 0.498594  [44864/60000]\n",
            "loss: 0.304122  [51264/60000]\n",
            "loss: 0.283320  [57664/60000]\n",
            "Test Error: \n",
            " Accuracy: 87.2%, Avg loss: 0.345240 \n",
            "\n",
            "Epoch 5\n",
            "-------------------------------\n",
            "loss: 0.258240  [   64/60000]\n",
            "loss: 0.319674  [ 6464/60000]\n",
            "loss: 0.269170  [12864/60000]\n",
            "loss: 0.248790  [19264/60000]\n",
            "loss: 0.299545  [25664/60000]\n",
            "loss: 0.350860  [32064/60000]\n",
            "loss: 0.181643  [38464/60000]\n",
            "loss: 0.437190  [44864/60000]\n",
            "loss: 0.360496  [51264/60000]\n",
            "loss: 0.248455  [57664/60000]\n",
            "Test Error: \n",
            " Accuracy: 88.0%, Avg loss: 0.330774 \n",
            "\n",
            "Epoch 6\n",
            "-------------------------------\n",
            "loss: 0.226366  [   64/60000]\n",
            "loss: 0.229686  [ 6464/60000]\n",
            "loss: 0.204345  [12864/60000]\n",
            "loss: 0.220218  [19264/60000]\n",
            "loss: 0.216489  [25664/60000]\n",
            "loss: 0.265147  [32064/60000]\n",
            "loss: 0.197271  [38464/60000]\n",
            "loss: 0.391209  [44864/60000]\n",
            "loss: 0.287098  [51264/60000]\n",
            "loss: 0.218994  [57664/60000]\n",
            "Test Error: \n",
            " Accuracy: 88.1%, Avg loss: 0.324164 \n",
            "\n",
            "Epoch 7\n",
            "-------------------------------\n",
            "loss: 0.235887  [   64/60000]\n",
            "loss: 0.344522  [ 6464/60000]\n",
            "loss: 0.169011  [12864/60000]\n",
            "loss: 0.206792  [19264/60000]\n",
            "loss: 0.184537  [25664/60000]\n",
            "loss: 0.324939  [32064/60000]\n",
            "loss: 0.187810  [38464/60000]\n",
            "loss: 0.379700  [44864/60000]\n",
            "loss: 0.286922  [51264/60000]\n",
            "loss: 0.218868  [57664/60000]\n",
            "Test Error: \n",
            " Accuracy: 88.3%, Avg loss: 0.319473 \n",
            "\n",
            "Epoch 8\n",
            "-------------------------------\n",
            "loss: 0.192774  [   64/60000]\n",
            "loss: 0.233137  [ 6464/60000]\n",
            "loss: 0.184402  [12864/60000]\n",
            "loss: 0.206470  [19264/60000]\n",
            "loss: 0.232538  [25664/60000]\n",
            "loss: 0.349943  [32064/60000]\n",
            "loss: 0.210791  [38464/60000]\n",
            "loss: 0.322867  [44864/60000]\n",
            "loss: 0.290293  [51264/60000]\n",
            "loss: 0.203669  [57664/60000]\n",
            "Test Error: \n",
            " Accuracy: 88.0%, Avg loss: 0.336263 \n",
            "\n",
            "Epoch 9\n",
            "-------------------------------\n",
            "loss: 0.213505  [   64/60000]\n",
            "loss: 0.244903  [ 6464/60000]\n",
            "loss: 0.136262  [12864/60000]\n",
            "loss: 0.213923  [19264/60000]\n",
            "loss: 0.191927  [25664/60000]\n",
            "loss: 0.319425  [32064/60000]\n",
            "loss: 0.255046  [38464/60000]\n",
            "loss: 0.426685  [44864/60000]\n",
            "loss: 0.269236  [51264/60000]\n",
            "loss: 0.235704  [57664/60000]\n",
            "Test Error: \n",
            " Accuracy: 88.7%, Avg loss: 0.319020 \n",
            "\n",
            "Epoch 10\n",
            "-------------------------------\n",
            "loss: 0.172392  [   64/60000]\n",
            "loss: 0.210218  [ 6464/60000]\n",
            "loss: 0.109611  [12864/60000]\n",
            "loss: 0.178071  [19264/60000]\n",
            "loss: 0.198190  [25664/60000]\n",
            "loss: 0.314979  [32064/60000]\n",
            "loss: 0.176280  [38464/60000]\n",
            "loss: 0.250796  [44864/60000]\n",
            "loss: 0.225469  [51264/60000]\n",
            "loss: 0.155143  [57664/60000]\n",
            "Test Error: \n",
            " Accuracy: 88.9%, Avg loss: 0.337027 \n",
            "\n",
            "Done!\n"
          ]
        }
      ]
    },
    {
      "cell_type": "markdown",
      "metadata": {
        "id": "ArDsJzsytoPW"
      },
      "source": [
        "## Salvataggio dei Modelli\n",
        "Un modo comune per salvare un modello è serializzare il dizionario di stato interno (contenente i parametri del modello).\n",
        "\n"
      ]
    },
    {
      "cell_type": "code",
      "execution_count": 41,
      "metadata": {
        "id": "ovWzvDMHtoPW",
        "colab": {
          "base_uri": "https://localhost:8080/"
        },
        "outputId": "6ab0df04-9812-4bf4-a8a8-7f93693b9fe9"
      },
      "outputs": [
        {
          "output_type": "stream",
          "name": "stdout",
          "text": [
            "Saved PyTorch Model State to model.pth\n"
          ]
        }
      ],
      "source": [
        "torch.save(model.state_dict(), \"model.pth\")\n",
        "print(\"Saved PyTorch Model State to model.pth\")"
      ]
    },
    {
      "cell_type": "markdown",
      "metadata": {
        "id": "7NGFpokztoPW"
      },
      "source": [
        "## Caricamento dei Modelli\n",
        "\n",
        "Il processo per caricare un modello include la ricreazione della struttura del modello e il caricamento del dizionario di stato al suo interno.\n",
        "\n"
      ]
    },
    {
      "cell_type": "code",
      "execution_count": 42,
      "metadata": {
        "id": "mCtox0ymtoPW",
        "colab": {
          "base_uri": "https://localhost:8080/"
        },
        "outputId": "731eed01-ec47-43cb-da1e-6c01d749045d"
      },
      "outputs": [
        {
          "output_type": "execute_result",
          "data": {
            "text/plain": [
              "<All keys matched successfully>"
            ]
          },
          "metadata": {},
          "execution_count": 42
        }
      ],
      "source": [
        "model = ModernLeNet().to(device)\n",
        "model.load_state_dict(torch.load(\"model.pth\"))"
      ]
    },
    {
      "cell_type": "markdown",
      "metadata": {
        "id": "p8Xr3VJbtoPW"
      },
      "source": [
        "Questo modello può ora essere utilizzato per effettuare previsioni.\n"
      ]
    },
    {
      "cell_type": "code",
      "execution_count": 43,
      "metadata": {
        "id": "QFR9ZDXttoPW",
        "colab": {
          "base_uri": "https://localhost:8080/"
        },
        "outputId": "b6642d02-54d0-47db-f0ab-8af0d4edee7d"
      },
      "outputs": [
        {
          "output_type": "stream",
          "name": "stdout",
          "text": [
            "Predetto: \"Ankle boot\", Atteso: \"Ankle boot\"\n"
          ]
        }
      ],
      "source": [
        "classes = [\n",
        "    \"T-shirt/top\",\n",
        "    \"Trouser\",\n",
        "    \"Pullover\",\n",
        "    \"Dress\",\n",
        "    \"Coat\",\n",
        "    \"Sandal\",\n",
        "    \"Shirt\",\n",
        "    \"Sneaker\",\n",
        "    \"Bag\",\n",
        "    \"Ankle boot\",\n",
        "]\n",
        "\n",
        "model.eval()\n",
        "x, y = test_data[0][0], test_data[0][1]\n",
        "with torch.no_grad():\n",
        "    x = x.to(device)\n",
        "    pred = model(x)\n",
        "    predicted, actual = classes[pred[0].argmax(0)], classes[y]\n",
        "    print(f'Predetto: \"{predicted}\", Atteso: \"{actual}\"')"
      ]
    },
    {
      "cell_type": "code",
      "source": [
        "from sklearn.metrics import confusion_matrix\n",
        "import numpy as np\n",
        "import seaborn as sns\n",
        "\n",
        "# Assuming 'model' is your trained PyTorch model and 'test_data' is your DataLoader\n",
        "\n",
        "# Ensure the model is in evaluation mode\n",
        "model.eval()\n",
        "\n",
        "# Initialize lists to store predictions and true labels\n",
        "all_preds = []\n",
        "true_labels = []\n",
        "\n",
        "# No need to track gradients for this\n",
        "with torch.no_grad():\n",
        "    for inputs, labels in test_data:\n",
        "        # Move inputs and labels to the right device\n",
        "        inputs = inputs.to(device)  # Replace 'device' with your actual device, e.g., 'cuda' if using GPU\n",
        "\n",
        "        # Forward pass to get outputs\n",
        "        outputs = model(inputs)\n",
        "\n",
        "        # Convert outputs probabilities to predicted class by taking the index of the max log-probability\n",
        "        _, preds = torch.max(outputs, 1)\n",
        "\n",
        "        # Append batch predictions and labels to the respective lists\n",
        "        all_preds.extend(preds.view(-1).cpu().numpy())\n",
        "        true_labels.append(labels)\n",
        "\n",
        "# Convert lists to numpy arrays for confusion matrix calculation\n",
        "all_preds = np.array(all_preds)\n",
        "true_labels = np.array(true_labels)\n",
        "\n",
        "# Generate the confusion matrix\n",
        "conf_matrix = confusion_matrix(true_labels, all_preds)\n",
        "\n",
        "# Plot the confusion matrix\n",
        "plt.figure(figsize=(10, 7))\n",
        "sns.heatmap(conf_matrix, annot=True, fmt='d', cmap='Blues', xticklabels=classes, yticklabels=classes)\n",
        "plt.xlabel('Predicted Labels')\n",
        "plt.ylabel('True Labels')\n",
        "plt.title('Confusion Matrix')\n",
        "plt.show()"
      ],
      "metadata": {
        "colab": {
          "base_uri": "https://localhost:8080/",
          "height": 641
        },
        "id": "zsUfloI0wPZf",
        "outputId": "bab8b728-38e1-4848-aa63-923c16a98045"
      },
      "execution_count": 44,
      "outputs": [
        {
          "output_type": "display_data",
          "data": {
            "text/plain": [
              "<Figure size 1000x700 with 2 Axes>"
            ],
            "image/png": "[encoded data removed]"
          },
          "metadata": {}
        }
      ]
    }
  ],
  "metadata": {
    "kernelspec": {
      "display_name": "Python 3",
      "language": "python",
      "name": "python3"
    },
    "language_info": {
      "codemirror_mode": {
        "name": "ipython",
        "version": 3
      },
      "file_extension": ".py",
      "mimetype": "text/x-python",
      "name": "python",
      "nbconvert_exporter": "python",
      "pygments_lexer": "ipython3",
      "version": "3.10.13"
    },
    "colab": {
      "provenance": []
    }
  },
  "nbformat": 4,
  "nbformat_minor": 0
}