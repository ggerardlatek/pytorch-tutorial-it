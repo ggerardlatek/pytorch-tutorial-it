{
  "nbformat": 4,
  "nbformat_minor": 0,
  "metadata": {
    "colab": {
      "provenance": []
    },
    "kernelspec": {
      "name": "python3",
      "display_name": "Python 3"
    },
    "language_info": {
      "name": "python"
    }
  },
  "cells": [
    {
      "cell_type": "markdown",
      "source": [
        "# Le matrici in PyTorch"
      ],
      "metadata": {
        "id": "eqNe9jIZ2RKu"
      }
    },
    {
      "cell_type": "code",
      "source": [
        "import torch\n",
        "import torch.nn.functional as F"
      ],
      "metadata": {
        "id": "QfvXCfOwT_Yj"
      },
      "execution_count": 1,
      "outputs": []
    },
    {
      "cell_type": "markdown",
      "source": [
        "Le matrici in PyTorch sono chiamati **tensori** e appartengono alla classe `torch.tensor`.\n",
        "\n",
        "Creiamo un primo tensore di esempio con tutti i valori a zero.\n",
        "\n"
      ],
      "metadata": {
        "id": "7XXJ8TOg2PFw"
      }
    },
    {
      "cell_type": "code",
      "source": [
        "Z = torch.zeros((3,3))\n",
        "Z"
      ],
      "metadata": {
        "colab": {
          "base_uri": "https://localhost:8080/"
        },
        "id": "sP6FQQQ82jdB",
        "outputId": "fbba5c60-adfe-473b-f6e5-8ee6414d1221"
      },
      "execution_count": 2,
      "outputs": [
        {
          "output_type": "execute_result",
          "data": {
            "text/plain": [
              "tensor([[0., 0., 0.],\n",
              "        [0., 0., 0.],\n",
              "        [0., 0., 0.]])"
            ]
          },
          "metadata": {},
          "execution_count": 2
        }
      ]
    },
    {
      "cell_type": "markdown",
      "source": [
        "Confermiamo la forma di questa matrice con il metodo `shape`"
      ],
      "metadata": {
        "id": "Fu1rU9ZR3GJi"
      }
    },
    {
      "cell_type": "code",
      "source": [
        "Z.shape"
      ],
      "metadata": {
        "colab": {
          "base_uri": "https://localhost:8080/"
        },
        "id": "WssN3aQM3FJO",
        "outputId": "fdcffa43-3a3f-434f-d5ae-2a56b86fba03"
      },
      "execution_count": 3,
      "outputs": [
        {
          "output_type": "execute_result",
          "data": {
            "text/plain": [
              "torch.Size([3, 3])"
            ]
          },
          "metadata": {},
          "execution_count": 3
        }
      ]
    },
    {
      "cell_type": "markdown",
      "source": [
        "Possiamo creare una matrice con tutti i valori ad 1."
      ],
      "metadata": {
        "id": "pBUGumzN3Lvv"
      }
    },
    {
      "cell_type": "code",
      "source": [
        "U = torch.ones((2,2))\n",
        "U"
      ],
      "metadata": {
        "colab": {
          "base_uri": "https://localhost:8080/"
        },
        "id": "OO9NmeKK3Tq2",
        "outputId": "18a0d5d2-49eb-4bd9-bb17-90ff98b34db6"
      },
      "execution_count": 4,
      "outputs": [
        {
          "output_type": "execute_result",
          "data": {
            "text/plain": [
              "tensor([[1., 1.],\n",
              "        [1., 1.]])"
            ]
          },
          "metadata": {},
          "execution_count": 4
        }
      ]
    },
    {
      "cell_type": "markdown",
      "source": [
        "Oppure possiamo creare una matrice esplicitando i valori."
      ],
      "metadata": {
        "id": "EoLg5aK63sQT"
      }
    },
    {
      "cell_type": "code",
      "source": [
        "M = torch.tensor([[0.1, 0.2, 0.3],[0.4, 0.5, 0.6]])\n",
        "M"
      ],
      "metadata": {
        "colab": {
          "base_uri": "https://localhost:8080/"
        },
        "id": "qAsCI9_13z9q",
        "outputId": "0adea42f-b8ce-4ef3-82e0-cfdfaa442ad8"
      },
      "execution_count": 5,
      "outputs": [
        {
          "output_type": "execute_result",
          "data": {
            "text/plain": [
              "tensor([[0.1000, 0.2000, 0.3000],\n",
              "        [0.4000, 0.5000, 0.6000]])"
            ]
          },
          "metadata": {},
          "execution_count": 5
        }
      ]
    },
    {
      "cell_type": "markdown",
      "source": [
        "In questo caso la matrice ha 2 righe e 3 colonne e quindi shape 2x3"
      ],
      "metadata": {
        "id": "PYZ4NDoY39RO"
      }
    },
    {
      "cell_type": "code",
      "source": [
        "M.shape"
      ],
      "metadata": {
        "colab": {
          "base_uri": "https://localhost:8080/"
        },
        "id": "R5mQJBe14DuL",
        "outputId": "30d53ef9-ddb9-4a63-b374-d90503110e75"
      },
      "execution_count": 6,
      "outputs": [
        {
          "output_type": "execute_result",
          "data": {
            "text/plain": [
              "torch.Size([2, 3])"
            ]
          },
          "metadata": {},
          "execution_count": 6
        }
      ]
    },
    {
      "cell_type": "markdown",
      "source": [
        "Possiamo anche inizializzare una matrice con valori casuali."
      ],
      "metadata": {
        "id": "YvX4NvsN4RcA"
      }
    },
    {
      "cell_type": "code",
      "source": [
        "R = torch.randn((4,8))\n",
        "R"
      ],
      "metadata": {
        "colab": {
          "base_uri": "https://localhost:8080/"
        },
        "id": "eVzKjUAm4Suu",
        "outputId": "ae48d5bd-02a8-4d0b-ebab-b6960f835d2c"
      },
      "execution_count": 7,
      "outputs": [
        {
          "output_type": "execute_result",
          "data": {
            "text/plain": [
              "tensor([[ 1.3547, -1.4677,  0.7367,  0.5269,  1.0975,  1.4754,  1.3930, -0.7157],\n",
              "        [ 0.9203,  1.7040, -0.1683, -0.1354, -0.9271,  0.1753,  0.6226,  0.4130],\n",
              "        [ 1.7095, -0.4345, -0.1505,  0.6441,  0.5831,  0.2222,  0.1867,  3.0420],\n",
              "        [ 0.1594, -1.9500,  0.6139, -0.1554,  0.9564, -1.0257,  1.1587, -0.5413]])"
            ]
          },
          "metadata": {},
          "execution_count": 7
        }
      ]
    },
    {
      "cell_type": "markdown",
      "source": [
        "## Matematica e operazioni su matrici\n",
        "\n",
        "Sulle matrici si possono eseguire tutte le operazioni matematiche comuni, come somma, sottrazione, moltiplicazione, ecc.\n",
        "\n",
        "Vi sono però alcune regole da seguire. Forma e dimensioni delle matrici devono essere compatibili.\n",
        "\n",
        "Per esempio per sommare due matrici A e B devono avere la stessa forma e dimensione."
      ],
      "metadata": {
        "id": "5iQmjLpi4bVj"
      }
    },
    {
      "cell_type": "code",
      "source": [
        "A = torch.randn((4,4))\n",
        "B = torch.randn((4,4))\n",
        "C = A + B\n",
        "C"
      ],
      "metadata": {
        "colab": {
          "base_uri": "https://localhost:8080/"
        },
        "id": "At-T1oFU4lP2",
        "outputId": "230d5f37-724e-4896-dea8-7cb820886be5"
      },
      "execution_count": 8,
      "outputs": [
        {
          "output_type": "execute_result",
          "data": {
            "text/plain": [
              "tensor([[-1.5144, -3.0752, -0.8546,  0.6761],\n",
              "        [-2.1107, -0.7745,  1.5789, -1.4648],\n",
              "        [ 0.0490,  1.1983, -0.4710, -0.6167],\n",
              "        [ 0.4256,  0.2349, -1.2178,  1.9153]])"
            ]
          },
          "metadata": {},
          "execution_count": 8
        }
      ]
    },
    {
      "cell_type": "markdown",
      "source": [
        "Per le moltiplicazioni esistono due tipi di moltiplicazioni\n",
        "\n",
        "* la moltiplicazione per elementi (in questo caso le matrici devono avere le stesse dimensioni)\n",
        "* la moltiplicazione algebrica tra matrici (in questo caso il numero di colonne della matrice a sinistra dell'operazione deve essere uguale al numero di righe della matrice a destra)\n",
        "\n",
        "Iniziamo con la moltiplicazione per elementi"
      ],
      "metadata": {
        "id": "6MSqg0W_47FZ"
      }
    },
    {
      "cell_type": "code",
      "source": [
        "A = torch.randn((4,8))\n",
        "B = torch.randn((4,8))\n",
        "C = A * B\n",
        "C"
      ],
      "metadata": {
        "colab": {
          "base_uri": "https://localhost:8080/"
        },
        "id": "wDBmTZJN5VYM",
        "outputId": "bcd09c0b-9f12-45bc-f36e-2b5a40f76cdf"
      },
      "execution_count": 9,
      "outputs": [
        {
          "output_type": "execute_result",
          "data": {
            "text/plain": [
              "tensor([[ 0.1867,  0.9916, -0.0481,  0.0865,  0.0839, -0.1135, -0.8296, -1.9390],\n",
              "        [ 1.3533,  2.4273,  0.1182,  0.1204, -0.3544, -0.2613, -0.1169,  0.9158],\n",
              "        [-1.5911, -0.3178,  0.2344, -0.0459, -0.3823,  0.2215,  0.0472,  0.3310],\n",
              "        [ 0.2812,  0.0693,  0.2531, -2.1891, -0.1290, -0.0582,  0.3813,  0.3186]])"
            ]
          },
          "metadata": {},
          "execution_count": 9
        }
      ]
    },
    {
      "cell_type": "markdown",
      "source": [
        "Ma se ora provassi la moltiplicazione algebrica `@` non funzionerebbe"
      ],
      "metadata": {
        "id": "1hTi_IQ25ePR"
      }
    },
    {
      "cell_type": "code",
      "source": [
        "A @ B"
      ],
      "metadata": {
        "colab": {
          "base_uri": "https://localhost:8080/",
          "height": 144
        },
        "id": "4HcGziv64ai3",
        "outputId": "f1c295f7-cbf7-4e15-e058-d117dc3d1de9"
      },
      "execution_count": 10,
      "outputs": [
        {
          "output_type": "error",
          "ename": "RuntimeError",
          "evalue": "mat1 and mat2 shapes cannot be multiplied (4x8 and 4x8)",
          "traceback": [
            "\u001b[0;31m---------------------------------------------------------------------------\u001b[0m",
            "\u001b[0;31mRuntimeError\u001b[0m                              Traceback (most recent call last)",
            "\u001b[0;32m<ipython-input-10-455d622f3b50>\u001b[0m in \u001b[0;36m<cell line: 1>\u001b[0;34m()\u001b[0m\n\u001b[0;32m----> 1\u001b[0;31m \u001b[0mA\u001b[0m \u001b[0;34m@\u001b[0m \u001b[0mB\u001b[0m\u001b[0;34m\u001b[0m\u001b[0;34m\u001b[0m\u001b[0m\n\u001b[0m",
            "\u001b[0;31mRuntimeError\u001b[0m: mat1 and mat2 shapes cannot be multiplied (4x8 and 4x8)"
          ]
        }
      ]
    },
    {
      "cell_type": "markdown",
      "source": [
        "In questo caso però possiamo usare un'altra operazione, la *trasposizione* con il metodo `T`, su una delle due per ottenere la condizione di uguaglianza tra righe e colonne."
      ],
      "metadata": {
        "id": "cQn6nku95nmo"
      }
    },
    {
      "cell_type": "code",
      "source": [
        "B.T.shape"
      ],
      "metadata": {
        "colab": {
          "base_uri": "https://localhost:8080/"
        },
        "id": "MCigI3mf5lNj",
        "outputId": "46a9c5b4-5cb6-4c96-dc39-2c84628a4594"
      },
      "execution_count": 11,
      "outputs": [
        {
          "output_type": "execute_result",
          "data": {
            "text/plain": [
              "torch.Size([8, 4])"
            ]
          },
          "metadata": {},
          "execution_count": 11
        }
      ]
    },
    {
      "cell_type": "code",
      "source": [
        "A @ B.T"
      ],
      "metadata": {
        "colab": {
          "base_uri": "https://localhost:8080/"
        },
        "id": "rCTzJTX658Sc",
        "outputId": "5f42c7db-78ec-49cb-ce34-2b5d4f7b5c6b"
      },
      "execution_count": 12,
      "outputs": [
        {
          "output_type": "execute_result",
          "data": {
            "text/plain": [
              "tensor([[-1.5815,  2.5366, -5.4461, -1.8329],\n",
              "        [-4.4337,  4.2024,  3.0479,  0.0986],\n",
              "        [ 1.0708, -1.1396, -1.5030, -0.7540],\n",
              "        [ 0.4364,  0.5937,  0.8032, -1.0728]])"
            ]
          },
          "metadata": {},
          "execution_count": 12
        }
      ]
    },
    {
      "cell_type": "markdown",
      "source": [
        "## Auto differenziazione"
      ],
      "metadata": {
        "id": "AGViLTxz6LFK"
      }
    },
    {
      "cell_type": "code",
      "source": [
        "x = torch.ones(4)  # input\n",
        "y = torch.tensor([0.0, 1.0])  # output atteso\n",
        "w = torch.randn(4, 2, requires_grad=True)\n",
        "b = torch.randn(2, requires_grad=True)\n",
        "z = x @ w +b\n",
        "loss = F.binary_cross_entropy_with_logits(z, y)\n"
      ],
      "metadata": {
        "id": "AKZL2U_9UX7A"
      },
      "execution_count": 15,
      "outputs": []
    },
    {
      "cell_type": "code",
      "source": [
        "print(f\"Funzione di calcolo del gradiente per z = {z.grad_fn}\")\n",
        "print(f\"Funzione di calcolo del gradiente per la loss = {loss.grad_fn}\")"
      ],
      "metadata": {
        "colab": {
          "base_uri": "https://localhost:8080/"
        },
        "id": "D6NAJc70RDb8",
        "outputId": "536df7ef-38a2-469c-e89c-7a656cab0dda"
      },
      "execution_count": 16,
      "outputs": [
        {
          "output_type": "stream",
          "name": "stdout",
          "text": [
            "Funzione di calcolo del gradiente per z = <AddBackward0 object at 0x7e11e2379660>\n",
            "Funzione di calcolo del gradiente per la loss = <BinaryCrossEntropyWithLogitsBackward0 object at 0x7e11e23799c0>\n"
          ]
        }
      ]
    },
    {
      "cell_type": "code",
      "source": [
        "loss.backward()\n",
        "print(w.grad)\n",
        "print(b.grad)"
      ],
      "metadata": {
        "colab": {
          "base_uri": "https://localhost:8080/"
        },
        "id": "ws0Of_oxRSel",
        "outputId": "8fa679ce-b255-43b1-a99f-0c6d3a497d0c"
      },
      "execution_count": 17,
      "outputs": [
        {
          "output_type": "stream",
          "name": "stdout",
          "text": [
            "tensor([[ 0.4529, -0.4105],\n",
            "        [ 0.4529, -0.4105],\n",
            "        [ 0.4529, -0.4105],\n",
            "        [ 0.4529, -0.4105]])\n",
            "tensor([ 0.4529, -0.4105])\n"
          ]
        }
      ]
    }
  ]
}